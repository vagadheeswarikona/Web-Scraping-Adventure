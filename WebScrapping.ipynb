{
  "nbformat": 4,
  "nbformat_minor": 0,
  "metadata": {
    "colab": {
      "provenance": [],
      "mount_file_id": "1jE9ls78AdHmILHwDsTSKQcLrS1PgH6y5",
      "authorship_tag": "ABX9TyM/xousexcR1Y/LiVlkoSze",
      "include_colab_link": true
    },
    "kernelspec": {
      "name": "python3",
      "display_name": "Python 3"
    },
    "language_info": {
      "name": "python"
    }
  },
  "cells": [
    {
      "cell_type": "markdown",
      "metadata": {
        "id": "view-in-github",
        "colab_type": "text"
      },
      "source": [
        "<a href=\"https://colab.research.google.com/github/vagadheeswarikona/Web-Scraping-Adventure/blob/main/WebScrapping.ipynb\" target=\"_parent\"><img src=\"https://colab.research.google.com/assets/colab-badge.svg\" alt=\"Open In Colab\"/></a>"
      ]
    },
    {
      "cell_type": "code",
      "execution_count": null,
      "metadata": {
        "id": "nZrokpJEmfYW"
      },
      "outputs": [],
      "source": [
        "import requests\n",
        "from bs4 import BeautifulSoup as bs"
      ]
    },
    {
      "cell_type": "code",
      "source": [
        "url=\"http://books.toscrape.com/\""
      ],
      "metadata": {
        "id": "ENywyPWEmq_A"
      },
      "execution_count": null,
      "outputs": []
    },
    {
      "cell_type": "code",
      "source": [
        "response=requests.get(url)\n",
        "response"
      ],
      "metadata": {
        "colab": {
          "base_uri": "https://localhost:8080/"
        },
        "id": "68t_OErym-oL",
        "outputId": "8d49befc-aca5-440b-f454-c67e8cfabb6a"
      },
      "execution_count": null,
      "outputs": [
        {
          "output_type": "execute_result",
          "data": {
            "text/plain": [
              "<Response [200]>"
            ]
          },
          "metadata": {},
          "execution_count": 3
        }
      ]
    },
    {
      "cell_type": "code",
      "source": [
        "response.status_code"
      ],
      "metadata": {
        "colab": {
          "base_uri": "https://localhost:8080/"
        },
        "id": "Nkjky7MznFwg",
        "outputId": "fdbad6f4-b03e-4ec0-e2d4-1d68c4537556"
      },
      "execution_count": null,
      "outputs": [
        {
          "output_type": "execute_result",
          "data": {
            "text/plain": [
              "200"
            ]
          },
          "metadata": {},
          "execution_count": 4
        }
      ]
    },
    {
      "cell_type": "code",
      "source": [
        "print(response.text[:1000])"
      ],
      "metadata": {
        "colab": {
          "base_uri": "https://localhost:8080/"
        },
        "id": "lJt8B-cFnMFU",
        "outputId": "df1c1011-8b05-44d5-b201-065efc1f95ef"
      },
      "execution_count": null,
      "outputs": [
        {
          "output_type": "stream",
          "name": "stdout",
          "text": [
            "<!DOCTYPE html>\n",
            "<!--[if lt IE 7]>      <html lang=\"en-us\" class=\"no-js lt-ie9 lt-ie8 lt-ie7\"> <![endif]-->\n",
            "<!--[if IE 7]>         <html lang=\"en-us\" class=\"no-js lt-ie9 lt-ie8\"> <![endif]-->\n",
            "<!--[if IE 8]>         <html lang=\"en-us\" class=\"no-js lt-ie9\"> <![endif]-->\n",
            "<!--[if gt IE 8]><!--> <html lang=\"en-us\" class=\"no-js\"> <!--<![endif]-->\n",
            "    <head>\n",
            "        <title>\n",
            "    All products | Books to Scrape - Sandbox\n",
            "</title>\n",
            "\n",
            "        <meta http-equiv=\"content-type\" content=\"text/html; charset=UTF-8\" />\n",
            "        <meta name=\"created\" content=\"24th Jun 2016 09:29\" />\n",
            "        <meta name=\"description\" content=\"\" />\n",
            "        <meta name=\"viewport\" content=\"width=device-width\" />\n",
            "        <meta name=\"robots\" content=\"NOARCHIVE,NOCACHE\" />\n",
            "\n",
            "        <!-- Le HTML5 shim, for IE6-8 support of HTML elements -->\n",
            "        <!--[if lt IE 9]>\n",
            "        <script src=\"//html5shim.googlecode.com/svn/trunk/html5.js\"></script>\n",
            "        <![endif]-->\n",
            "\n",
            "        \n",
            "            <link rel=\"shortcut icon\" href=\"static/oscar/favicon.\n"
          ]
        }
      ]
    },
    {
      "cell_type": "code",
      "source": [
        "soup=bs(response.text,'html.parser')"
      ],
      "metadata": {
        "id": "T4vT6leTpRMm"
      },
      "execution_count": null,
      "outputs": []
    },
    {
      "cell_type": "code",
      "source": [
        "type(soup)"
      ],
      "metadata": {
        "colab": {
          "base_uri": "https://localhost:8080/",
          "height": 206
        },
        "id": "BhoA69RVxIkG",
        "outputId": "bcd19194-7c10-4aa7-cb07-17f8dc673c60"
      },
      "execution_count": null,
      "outputs": [
        {
          "output_type": "execute_result",
          "data": {
            "text/plain": [
              "bs4.BeautifulSoup"
            ],
            "text/html": [
              "<div style=\"max-width:800px; border: 1px solid var(--colab-border-color);\"><style>\n",
              "      pre.function-repr-contents {\n",
              "        overflow-x: auto;\n",
              "        padding: 8px 12px;\n",
              "        max-height: 500px;\n",
              "      }\n",
              "\n",
              "      pre.function-repr-contents.function-repr-contents-collapsed {\n",
              "        cursor: pointer;\n",
              "        max-height: 100px;\n",
              "      }\n",
              "    </style>\n",
              "    <pre style=\"white-space: initial; background:\n",
              "         var(--colab-secondary-surface-color); padding: 8px 12px;\n",
              "         border-bottom: 1px solid var(--colab-border-color);\"><b>bs4.BeautifulSoup</b><br/>def __call__(*args, **kwargs)</pre><pre class=\"function-repr-contents function-repr-contents-collapsed\" style=\"\"><a class=\"filepath\" style=\"display:none\" href=\"#\">/usr/local/lib/python3.10/dist-packages/bs4/__init__.py</a>A data structure representing a parsed HTML or XML document.\n",
              "\n",
              "Most of the methods you&#x27;ll call on a BeautifulSoup object are inherited from\n",
              "PageElement or Tag.\n",
              "\n",
              "Internally, this class defines the basic interface called by the\n",
              "tree builders when converting an HTML/XML document into a data\n",
              "structure. The interface abstracts away the differences between\n",
              "parsers. To write a new tree builder, you&#x27;ll need to understand\n",
              "these methods as a whole.\n",
              "\n",
              "These methods will be called by the BeautifulSoup constructor:\n",
              "  * reset()\n",
              "  * feed(markup)\n",
              "\n",
              "The tree builder may call these methods from its feed() implementation:\n",
              "  * handle_starttag(name, attrs) # See note about return value\n",
              "  * handle_endtag(name)\n",
              "  * handle_data(data) # Appends to the current data node\n",
              "  * endData(containerClass) # Ends the current data node\n",
              "\n",
              "No matter how complicated the underlying parser is, you should be\n",
              "able to build a tree using &#x27;start tag&#x27; events, &#x27;end tag&#x27; events,\n",
              "&#x27;data&#x27; events, and &quot;done with data&quot; events.\n",
              "\n",
              "If you encounter an empty-element tag (aka a self-closing tag,\n",
              "like HTML&#x27;s &lt;br&gt; tag), call handle_starttag and then\n",
              "handle_endtag.</pre>\n",
              "      <script>\n",
              "      if (google.colab.kernel.accessAllowed && google.colab.files && google.colab.files.view) {\n",
              "        for (const element of document.querySelectorAll('.filepath')) {\n",
              "          element.style.display = 'block'\n",
              "          element.onclick = (event) => {\n",
              "            event.preventDefault();\n",
              "            event.stopPropagation();\n",
              "            google.colab.files.view(element.textContent, 76);\n",
              "          };\n",
              "        }\n",
              "      }\n",
              "      for (const element of document.querySelectorAll('.function-repr-contents')) {\n",
              "        element.onclick = (event) => {\n",
              "          event.preventDefault();\n",
              "          event.stopPropagation();\n",
              "          element.classList.toggle('function-repr-contents-collapsed');\n",
              "        };\n",
              "      }\n",
              "      </script>\n",
              "      </div>"
            ]
          },
          "metadata": {},
          "execution_count": 20
        }
      ]
    },
    {
      "cell_type": "code",
      "source": [
        "soup.find(\"title\").text.strip()"
      ],
      "metadata": {
        "colab": {
          "base_uri": "https://localhost:8080/",
          "height": 55
        },
        "id": "jyFkaeEHxMVq",
        "outputId": "2d74bdc4-7d86-41e2-b30d-82e63ef601f7"
      },
      "execution_count": null,
      "outputs": [
        {
          "output_type": "execute_result",
          "data": {
            "text/plain": [
              "'All products | Books to Scrape - Sandbox'"
            ],
            "application/vnd.google.colaboratory.intrinsic+json": {
              "type": "string"
            }
          },
          "metadata": {},
          "execution_count": 21
        }
      ]
    },
    {
      "cell_type": "code",
      "source": [
        "books=soup.find_all(\"article\",attrs={\"class\":\"product_pod\"})"
      ],
      "metadata": {
        "id": "s3k2eOnqx26i"
      },
      "execution_count": null,
      "outputs": []
    },
    {
      "cell_type": "code",
      "source": [
        "books"
      ],
      "metadata": {
        "colab": {
          "base_uri": "https://localhost:8080/"
        },
        "id": "Qlj6qog-0cMX",
        "outputId": "155003f0-4787-4a6f-f79e-d37c865eef47"
      },
      "execution_count": null,
      "outputs": [
        {
          "output_type": "execute_result",
          "data": {
            "text/plain": [
              "[<article class=\"product_pod\">\n",
              " <div class=\"image_container\">\n",
              " <a href=\"catalogue/a-light-in-the-attic_1000/index.html\"><img alt=\"A Light in the Attic\" class=\"thumbnail\" src=\"media/cache/2c/da/2cdad67c44b002e7ead0cc35693c0e8b.jpg\"/></a>\n",
              " </div>\n",
              " <p class=\"star-rating Three\">\n",
              " <i class=\"icon-star\"></i>\n",
              " <i class=\"icon-star\"></i>\n",
              " <i class=\"icon-star\"></i>\n",
              " <i class=\"icon-star\"></i>\n",
              " <i class=\"icon-star\"></i>\n",
              " </p>\n",
              " <h3><a href=\"catalogue/a-light-in-the-attic_1000/index.html\" title=\"A Light in the Attic\">A Light in the ...</a></h3>\n",
              " <div class=\"product_price\">\n",
              " <p class=\"price_color\">Â£51.77</p>\n",
              " <p class=\"instock availability\">\n",
              " <i class=\"icon-ok\"></i>\n",
              "     \n",
              "         In stock\n",
              "     \n",
              " </p>\n",
              " <form>\n",
              " <button class=\"btn btn-primary btn-block\" data-loading-text=\"Adding...\" type=\"submit\">Add to basket</button>\n",
              " </form>\n",
              " </div>\n",
              " </article>,\n",
              " <article class=\"product_pod\">\n",
              " <div class=\"image_container\">\n",
              " <a href=\"catalogue/tipping-the-velvet_999/index.html\"><img alt=\"Tipping the Velvet\" class=\"thumbnail\" src=\"media/cache/26/0c/260c6ae16bce31c8f8c95daddd9f4a1c.jpg\"/></a>\n",
              " </div>\n",
              " <p class=\"star-rating One\">\n",
              " <i class=\"icon-star\"></i>\n",
              " <i class=\"icon-star\"></i>\n",
              " <i class=\"icon-star\"></i>\n",
              " <i class=\"icon-star\"></i>\n",
              " <i class=\"icon-star\"></i>\n",
              " </p>\n",
              " <h3><a href=\"catalogue/tipping-the-velvet_999/index.html\" title=\"Tipping the Velvet\">Tipping the Velvet</a></h3>\n",
              " <div class=\"product_price\">\n",
              " <p class=\"price_color\">Â£53.74</p>\n",
              " <p class=\"instock availability\">\n",
              " <i class=\"icon-ok\"></i>\n",
              "     \n",
              "         In stock\n",
              "     \n",
              " </p>\n",
              " <form>\n",
              " <button class=\"btn btn-primary btn-block\" data-loading-text=\"Adding...\" type=\"submit\">Add to basket</button>\n",
              " </form>\n",
              " </div>\n",
              " </article>,\n",
              " <article class=\"product_pod\">\n",
              " <div class=\"image_container\">\n",
              " <a href=\"catalogue/soumission_998/index.html\"><img alt=\"Soumission\" class=\"thumbnail\" src=\"media/cache/3e/ef/3eef99c9d9adef34639f510662022830.jpg\"/></a>\n",
              " </div>\n",
              " <p class=\"star-rating One\">\n",
              " <i class=\"icon-star\"></i>\n",
              " <i class=\"icon-star\"></i>\n",
              " <i class=\"icon-star\"></i>\n",
              " <i class=\"icon-star\"></i>\n",
              " <i class=\"icon-star\"></i>\n",
              " </p>\n",
              " <h3><a href=\"catalogue/soumission_998/index.html\" title=\"Soumission\">Soumission</a></h3>\n",
              " <div class=\"product_price\">\n",
              " <p class=\"price_color\">Â£50.10</p>\n",
              " <p class=\"instock availability\">\n",
              " <i class=\"icon-ok\"></i>\n",
              "     \n",
              "         In stock\n",
              "     \n",
              " </p>\n",
              " <form>\n",
              " <button class=\"btn btn-primary btn-block\" data-loading-text=\"Adding...\" type=\"submit\">Add to basket</button>\n",
              " </form>\n",
              " </div>\n",
              " </article>,\n",
              " <article class=\"product_pod\">\n",
              " <div class=\"image_container\">\n",
              " <a href=\"catalogue/sharp-objects_997/index.html\"><img alt=\"Sharp Objects\" class=\"thumbnail\" src=\"media/cache/32/51/3251cf3a3412f53f339e42cac2134093.jpg\"/></a>\n",
              " </div>\n",
              " <p class=\"star-rating Four\">\n",
              " <i class=\"icon-star\"></i>\n",
              " <i class=\"icon-star\"></i>\n",
              " <i class=\"icon-star\"></i>\n",
              " <i class=\"icon-star\"></i>\n",
              " <i class=\"icon-star\"></i>\n",
              " </p>\n",
              " <h3><a href=\"catalogue/sharp-objects_997/index.html\" title=\"Sharp Objects\">Sharp Objects</a></h3>\n",
              " <div class=\"product_price\">\n",
              " <p class=\"price_color\">Â£47.82</p>\n",
              " <p class=\"instock availability\">\n",
              " <i class=\"icon-ok\"></i>\n",
              "     \n",
              "         In stock\n",
              "     \n",
              " </p>\n",
              " <form>\n",
              " <button class=\"btn btn-primary btn-block\" data-loading-text=\"Adding...\" type=\"submit\">Add to basket</button>\n",
              " </form>\n",
              " </div>\n",
              " </article>,\n",
              " <article class=\"product_pod\">\n",
              " <div class=\"image_container\">\n",
              " <a href=\"catalogue/sapiens-a-brief-history-of-humankind_996/index.html\"><img alt=\"Sapiens: A Brief History of Humankind\" class=\"thumbnail\" src=\"media/cache/be/a5/bea5697f2534a2f86a3ef27b5a8c12a6.jpg\"/></a>\n",
              " </div>\n",
              " <p class=\"star-rating Five\">\n",
              " <i class=\"icon-star\"></i>\n",
              " <i class=\"icon-star\"></i>\n",
              " <i class=\"icon-star\"></i>\n",
              " <i class=\"icon-star\"></i>\n",
              " <i class=\"icon-star\"></i>\n",
              " </p>\n",
              " <h3><a href=\"catalogue/sapiens-a-brief-history-of-humankind_996/index.html\" title=\"Sapiens: A Brief History of Humankind\">Sapiens: A Brief History ...</a></h3>\n",
              " <div class=\"product_price\">\n",
              " <p class=\"price_color\">Â£54.23</p>\n",
              " <p class=\"instock availability\">\n",
              " <i class=\"icon-ok\"></i>\n",
              "     \n",
              "         In stock\n",
              "     \n",
              " </p>\n",
              " <form>\n",
              " <button class=\"btn btn-primary btn-block\" data-loading-text=\"Adding...\" type=\"submit\">Add to basket</button>\n",
              " </form>\n",
              " </div>\n",
              " </article>,\n",
              " <article class=\"product_pod\">\n",
              " <div class=\"image_container\">\n",
              " <a href=\"catalogue/the-requiem-red_995/index.html\"><img alt=\"The Requiem Red\" class=\"thumbnail\" src=\"media/cache/68/33/68339b4c9bc034267e1da611ab3b34f8.jpg\"/></a>\n",
              " </div>\n",
              " <p class=\"star-rating One\">\n",
              " <i class=\"icon-star\"></i>\n",
              " <i class=\"icon-star\"></i>\n",
              " <i class=\"icon-star\"></i>\n",
              " <i class=\"icon-star\"></i>\n",
              " <i class=\"icon-star\"></i>\n",
              " </p>\n",
              " <h3><a href=\"catalogue/the-requiem-red_995/index.html\" title=\"The Requiem Red\">The Requiem Red</a></h3>\n",
              " <div class=\"product_price\">\n",
              " <p class=\"price_color\">Â£22.65</p>\n",
              " <p class=\"instock availability\">\n",
              " <i class=\"icon-ok\"></i>\n",
              "     \n",
              "         In stock\n",
              "     \n",
              " </p>\n",
              " <form>\n",
              " <button class=\"btn btn-primary btn-block\" data-loading-text=\"Adding...\" type=\"submit\">Add to basket</button>\n",
              " </form>\n",
              " </div>\n",
              " </article>,\n",
              " <article class=\"product_pod\">\n",
              " <div class=\"image_container\">\n",
              " <a href=\"catalogue/the-dirty-little-secrets-of-getting-your-dream-job_994/index.html\"><img alt=\"The Dirty Little Secrets of Getting Your Dream Job\" class=\"thumbnail\" src=\"media/cache/92/27/92274a95b7c251fea59a2b8a78275ab4.jpg\"/></a>\n",
              " </div>\n",
              " <p class=\"star-rating Four\">\n",
              " <i class=\"icon-star\"></i>\n",
              " <i class=\"icon-star\"></i>\n",
              " <i class=\"icon-star\"></i>\n",
              " <i class=\"icon-star\"></i>\n",
              " <i class=\"icon-star\"></i>\n",
              " </p>\n",
              " <h3><a href=\"catalogue/the-dirty-little-secrets-of-getting-your-dream-job_994/index.html\" title=\"The Dirty Little Secrets of Getting Your Dream Job\">The Dirty Little Secrets ...</a></h3>\n",
              " <div class=\"product_price\">\n",
              " <p class=\"price_color\">Â£33.34</p>\n",
              " <p class=\"instock availability\">\n",
              " <i class=\"icon-ok\"></i>\n",
              "     \n",
              "         In stock\n",
              "     \n",
              " </p>\n",
              " <form>\n",
              " <button class=\"btn btn-primary btn-block\" data-loading-text=\"Adding...\" type=\"submit\">Add to basket</button>\n",
              " </form>\n",
              " </div>\n",
              " </article>,\n",
              " <article class=\"product_pod\">\n",
              " <div class=\"image_container\">\n",
              " <a href=\"catalogue/the-coming-woman-a-novel-based-on-the-life-of-the-infamous-feminist-victoria-woodhull_993/index.html\"><img alt=\"The Coming Woman: A Novel Based on the Life of the Infamous Feminist, Victoria Woodhull\" class=\"thumbnail\" src=\"media/cache/3d/54/3d54940e57e662c4dd1f3ff00c78cc64.jpg\"/></a>\n",
              " </div>\n",
              " <p class=\"star-rating Three\">\n",
              " <i class=\"icon-star\"></i>\n",
              " <i class=\"icon-star\"></i>\n",
              " <i class=\"icon-star\"></i>\n",
              " <i class=\"icon-star\"></i>\n",
              " <i class=\"icon-star\"></i>\n",
              " </p>\n",
              " <h3><a href=\"catalogue/the-coming-woman-a-novel-based-on-the-life-of-the-infamous-feminist-victoria-woodhull_993/index.html\" title=\"The Coming Woman: A Novel Based on the Life of the Infamous Feminist, Victoria Woodhull\">The Coming Woman: A ...</a></h3>\n",
              " <div class=\"product_price\">\n",
              " <p class=\"price_color\">Â£17.93</p>\n",
              " <p class=\"instock availability\">\n",
              " <i class=\"icon-ok\"></i>\n",
              "     \n",
              "         In stock\n",
              "     \n",
              " </p>\n",
              " <form>\n",
              " <button class=\"btn btn-primary btn-block\" data-loading-text=\"Adding...\" type=\"submit\">Add to basket</button>\n",
              " </form>\n",
              " </div>\n",
              " </article>,\n",
              " <article class=\"product_pod\">\n",
              " <div class=\"image_container\">\n",
              " <a href=\"catalogue/the-boys-in-the-boat-nine-americans-and-their-epic-quest-for-gold-at-the-1936-berlin-olympics_992/index.html\"><img alt=\"The Boys in the Boat: Nine Americans and Their Epic Quest for Gold at the 1936 Berlin Olympics\" class=\"thumbnail\" src=\"media/cache/66/88/66883b91f6804b2323c8369331cb7dd1.jpg\"/></a>\n",
              " </div>\n",
              " <p class=\"star-rating Four\">\n",
              " <i class=\"icon-star\"></i>\n",
              " <i class=\"icon-star\"></i>\n",
              " <i class=\"icon-star\"></i>\n",
              " <i class=\"icon-star\"></i>\n",
              " <i class=\"icon-star\"></i>\n",
              " </p>\n",
              " <h3><a href=\"catalogue/the-boys-in-the-boat-nine-americans-and-their-epic-quest-for-gold-at-the-1936-berlin-olympics_992/index.html\" title=\"The Boys in the Boat: Nine Americans and Their Epic Quest for Gold at the 1936 Berlin Olympics\">The Boys in the ...</a></h3>\n",
              " <div class=\"product_price\">\n",
              " <p class=\"price_color\">Â£22.60</p>\n",
              " <p class=\"instock availability\">\n",
              " <i class=\"icon-ok\"></i>\n",
              "     \n",
              "         In stock\n",
              "     \n",
              " </p>\n",
              " <form>\n",
              " <button class=\"btn btn-primary btn-block\" data-loading-text=\"Adding...\" type=\"submit\">Add to basket</button>\n",
              " </form>\n",
              " </div>\n",
              " </article>,\n",
              " <article class=\"product_pod\">\n",
              " <div class=\"image_container\">\n",
              " <a href=\"catalogue/the-black-maria_991/index.html\"><img alt=\"The Black Maria\" class=\"thumbnail\" src=\"media/cache/58/46/5846057e28022268153beff6d352b06c.jpg\"/></a>\n",
              " </div>\n",
              " <p class=\"star-rating One\">\n",
              " <i class=\"icon-star\"></i>\n",
              " <i class=\"icon-star\"></i>\n",
              " <i class=\"icon-star\"></i>\n",
              " <i class=\"icon-star\"></i>\n",
              " <i class=\"icon-star\"></i>\n",
              " </p>\n",
              " <h3><a href=\"catalogue/the-black-maria_991/index.html\" title=\"The Black Maria\">The Black Maria</a></h3>\n",
              " <div class=\"product_price\">\n",
              " <p class=\"price_color\">Â£52.15</p>\n",
              " <p class=\"instock availability\">\n",
              " <i class=\"icon-ok\"></i>\n",
              "     \n",
              "         In stock\n",
              "     \n",
              " </p>\n",
              " <form>\n",
              " <button class=\"btn btn-primary btn-block\" data-loading-text=\"Adding...\" type=\"submit\">Add to basket</button>\n",
              " </form>\n",
              " </div>\n",
              " </article>,\n",
              " <article class=\"product_pod\">\n",
              " <div class=\"image_container\">\n",
              " <a href=\"catalogue/starving-hearts-triangular-trade-trilogy-1_990/index.html\"><img alt=\"Starving Hearts (Triangular Trade Trilogy, #1)\" class=\"thumbnail\" src=\"media/cache/be/f4/bef44da28c98f905a3ebec0b87be8530.jpg\"/></a>\n",
              " </div>\n",
              " <p class=\"star-rating Two\">\n",
              " <i class=\"icon-star\"></i>\n",
              " <i class=\"icon-star\"></i>\n",
              " <i class=\"icon-star\"></i>\n",
              " <i class=\"icon-star\"></i>\n",
              " <i class=\"icon-star\"></i>\n",
              " </p>\n",
              " <h3><a href=\"catalogue/starving-hearts-triangular-trade-trilogy-1_990/index.html\" title=\"Starving Hearts (Triangular Trade Trilogy, #1)\">Starving Hearts (Triangular Trade ...</a></h3>\n",
              " <div class=\"product_price\">\n",
              " <p class=\"price_color\">Â£13.99</p>\n",
              " <p class=\"instock availability\">\n",
              " <i class=\"icon-ok\"></i>\n",
              "     \n",
              "         In stock\n",
              "     \n",
              " </p>\n",
              " <form>\n",
              " <button class=\"btn btn-primary btn-block\" data-loading-text=\"Adding...\" type=\"submit\">Add to basket</button>\n",
              " </form>\n",
              " </div>\n",
              " </article>,\n",
              " <article class=\"product_pod\">\n",
              " <div class=\"image_container\">\n",
              " <a href=\"catalogue/shakespeares-sonnets_989/index.html\"><img alt=\"Shakespeare's Sonnets\" class=\"thumbnail\" src=\"media/cache/10/48/1048f63d3b5061cd2f424d20b3f9b666.jpg\"/></a>\n",
              " </div>\n",
              " <p class=\"star-rating Four\">\n",
              " <i class=\"icon-star\"></i>\n",
              " <i class=\"icon-star\"></i>\n",
              " <i class=\"icon-star\"></i>\n",
              " <i class=\"icon-star\"></i>\n",
              " <i class=\"icon-star\"></i>\n",
              " </p>\n",
              " <h3><a href=\"catalogue/shakespeares-sonnets_989/index.html\" title=\"Shakespeare's Sonnets\">Shakespeare's Sonnets</a></h3>\n",
              " <div class=\"product_price\">\n",
              " <p class=\"price_color\">Â£20.66</p>\n",
              " <p class=\"instock availability\">\n",
              " <i class=\"icon-ok\"></i>\n",
              "     \n",
              "         In stock\n",
              "     \n",
              " </p>\n",
              " <form>\n",
              " <button class=\"btn btn-primary btn-block\" data-loading-text=\"Adding...\" type=\"submit\">Add to basket</button>\n",
              " </form>\n",
              " </div>\n",
              " </article>,\n",
              " <article class=\"product_pod\">\n",
              " <div class=\"image_container\">\n",
              " <a href=\"catalogue/set-me-free_988/index.html\"><img alt=\"Set Me Free\" class=\"thumbnail\" src=\"media/cache/5b/88/5b88c52633f53cacf162c15f4f823153.jpg\"/></a>\n",
              " </div>\n",
              " <p class=\"star-rating Five\">\n",
              " <i class=\"icon-star\"></i>\n",
              " <i class=\"icon-star\"></i>\n",
              " <i class=\"icon-star\"></i>\n",
              " <i class=\"icon-star\"></i>\n",
              " <i class=\"icon-star\"></i>\n",
              " </p>\n",
              " <h3><a href=\"catalogue/set-me-free_988/index.html\" title=\"Set Me Free\">Set Me Free</a></h3>\n",
              " <div class=\"product_price\">\n",
              " <p class=\"price_color\">Â£17.46</p>\n",
              " <p class=\"instock availability\">\n",
              " <i class=\"icon-ok\"></i>\n",
              "     \n",
              "         In stock\n",
              "     \n",
              " </p>\n",
              " <form>\n",
              " <button class=\"btn btn-primary btn-block\" data-loading-text=\"Adding...\" type=\"submit\">Add to basket</button>\n",
              " </form>\n",
              " </div>\n",
              " </article>,\n",
              " <article class=\"product_pod\">\n",
              " <div class=\"image_container\">\n",
              " <a href=\"catalogue/scott-pilgrims-precious-little-life-scott-pilgrim-1_987/index.html\"><img alt=\"Scott Pilgrim's Precious Little Life (Scott Pilgrim #1)\" class=\"thumbnail\" src=\"media/cache/94/b1/94b1b8b244bce9677c2f29ccc890d4d2.jpg\"/></a>\n",
              " </div>\n",
              " <p class=\"star-rating Five\">\n",
              " <i class=\"icon-star\"></i>\n",
              " <i class=\"icon-star\"></i>\n",
              " <i class=\"icon-star\"></i>\n",
              " <i class=\"icon-star\"></i>\n",
              " <i class=\"icon-star\"></i>\n",
              " </p>\n",
              " <h3><a href=\"catalogue/scott-pilgrims-precious-little-life-scott-pilgrim-1_987/index.html\" title=\"Scott Pilgrim's Precious Little Life (Scott Pilgrim #1)\">Scott Pilgrim's Precious Little ...</a></h3>\n",
              " <div class=\"product_price\">\n",
              " <p class=\"price_color\">Â£52.29</p>\n",
              " <p class=\"instock availability\">\n",
              " <i class=\"icon-ok\"></i>\n",
              "     \n",
              "         In stock\n",
              "     \n",
              " </p>\n",
              " <form>\n",
              " <button class=\"btn btn-primary btn-block\" data-loading-text=\"Adding...\" type=\"submit\">Add to basket</button>\n",
              " </form>\n",
              " </div>\n",
              " </article>,\n",
              " <article class=\"product_pod\">\n",
              " <div class=\"image_container\">\n",
              " <a href=\"catalogue/rip-it-up-and-start-again_986/index.html\"><img alt=\"Rip it Up and Start Again\" class=\"thumbnail\" src=\"media/cache/81/c4/81c4a973364e17d01f217e1188253d5e.jpg\"/></a>\n",
              " </div>\n",
              " <p class=\"star-rating Five\">\n",
              " <i class=\"icon-star\"></i>\n",
              " <i class=\"icon-star\"></i>\n",
              " <i class=\"icon-star\"></i>\n",
              " <i class=\"icon-star\"></i>\n",
              " <i class=\"icon-star\"></i>\n",
              " </p>\n",
              " <h3><a href=\"catalogue/rip-it-up-and-start-again_986/index.html\" title=\"Rip it Up and Start Again\">Rip it Up and ...</a></h3>\n",
              " <div class=\"product_price\">\n",
              " <p class=\"price_color\">Â£35.02</p>\n",
              " <p class=\"instock availability\">\n",
              " <i class=\"icon-ok\"></i>\n",
              "     \n",
              "         In stock\n",
              "     \n",
              " </p>\n",
              " <form>\n",
              " <button class=\"btn btn-primary btn-block\" data-loading-text=\"Adding...\" type=\"submit\">Add to basket</button>\n",
              " </form>\n",
              " </div>\n",
              " </article>,\n",
              " <article class=\"product_pod\">\n",
              " <div class=\"image_container\">\n",
              " <a href=\"catalogue/our-band-could-be-your-life-scenes-from-the-american-indie-underground-1981-1991_985/index.html\"><img alt=\"Our Band Could Be Your Life: Scenes from the American Indie Underground, 1981-1991\" class=\"thumbnail\" src=\"media/cache/54/60/54607fe8945897cdcced0044103b10b6.jpg\"/></a>\n",
              " </div>\n",
              " <p class=\"star-rating Three\">\n",
              " <i class=\"icon-star\"></i>\n",
              " <i class=\"icon-star\"></i>\n",
              " <i class=\"icon-star\"></i>\n",
              " <i class=\"icon-star\"></i>\n",
              " <i class=\"icon-star\"></i>\n",
              " </p>\n",
              " <h3><a href=\"catalogue/our-band-could-be-your-life-scenes-from-the-american-indie-underground-1981-1991_985/index.html\" title=\"Our Band Could Be Your Life: Scenes from the American Indie Underground, 1981-1991\">Our Band Could Be ...</a></h3>\n",
              " <div class=\"product_price\">\n",
              " <p class=\"price_color\">Â£57.25</p>\n",
              " <p class=\"instock availability\">\n",
              " <i class=\"icon-ok\"></i>\n",
              "     \n",
              "         In stock\n",
              "     \n",
              " </p>\n",
              " <form>\n",
              " <button class=\"btn btn-primary btn-block\" data-loading-text=\"Adding...\" type=\"submit\">Add to basket</button>\n",
              " </form>\n",
              " </div>\n",
              " </article>,\n",
              " <article class=\"product_pod\">\n",
              " <div class=\"image_container\">\n",
              " <a href=\"catalogue/olio_984/index.html\"><img alt=\"Olio\" class=\"thumbnail\" src=\"media/cache/55/33/553310a7162dfbc2c6d19a84da0df9e1.jpg\"/></a>\n",
              " </div>\n",
              " <p class=\"star-rating One\">\n",
              " <i class=\"icon-star\"></i>\n",
              " <i class=\"icon-star\"></i>\n",
              " <i class=\"icon-star\"></i>\n",
              " <i class=\"icon-star\"></i>\n",
              " <i class=\"icon-star\"></i>\n",
              " </p>\n",
              " <h3><a href=\"catalogue/olio_984/index.html\" title=\"Olio\">Olio</a></h3>\n",
              " <div class=\"product_price\">\n",
              " <p class=\"price_color\">Â£23.88</p>\n",
              " <p class=\"instock availability\">\n",
              " <i class=\"icon-ok\"></i>\n",
              "     \n",
              "         In stock\n",
              "     \n",
              " </p>\n",
              " <form>\n",
              " <button class=\"btn btn-primary btn-block\" data-loading-text=\"Adding...\" type=\"submit\">Add to basket</button>\n",
              " </form>\n",
              " </div>\n",
              " </article>,\n",
              " <article class=\"product_pod\">\n",
              " <div class=\"image_container\">\n",
              " <a href=\"catalogue/mesaerion-the-best-science-fiction-stories-1800-1849_983/index.html\"><img alt=\"Mesaerion: The Best Science Fiction Stories 1800-1849\" class=\"thumbnail\" src=\"media/cache/09/a3/09a3aef48557576e1a85ba7efea8ecb7.jpg\"/></a>\n",
              " </div>\n",
              " <p class=\"star-rating One\">\n",
              " <i class=\"icon-star\"></i>\n",
              " <i class=\"icon-star\"></i>\n",
              " <i class=\"icon-star\"></i>\n",
              " <i class=\"icon-star\"></i>\n",
              " <i class=\"icon-star\"></i>\n",
              " </p>\n",
              " <h3><a href=\"catalogue/mesaerion-the-best-science-fiction-stories-1800-1849_983/index.html\" title=\"Mesaerion: The Best Science Fiction Stories 1800-1849\">Mesaerion: The Best Science ...</a></h3>\n",
              " <div class=\"product_price\">\n",
              " <p class=\"price_color\">Â£37.59</p>\n",
              " <p class=\"instock availability\">\n",
              " <i class=\"icon-ok\"></i>\n",
              "     \n",
              "         In stock\n",
              "     \n",
              " </p>\n",
              " <form>\n",
              " <button class=\"btn btn-primary btn-block\" data-loading-text=\"Adding...\" type=\"submit\">Add to basket</button>\n",
              " </form>\n",
              " </div>\n",
              " </article>,\n",
              " <article class=\"product_pod\">\n",
              " <div class=\"image_container\">\n",
              " <a href=\"catalogue/libertarianism-for-beginners_982/index.html\"><img alt=\"Libertarianism for Beginners\" class=\"thumbnail\" src=\"media/cache/0b/bc/0bbcd0a6f4bcd81ccb1049a52736406e.jpg\"/></a>\n",
              " </div>\n",
              " <p class=\"star-rating Two\">\n",
              " <i class=\"icon-star\"></i>\n",
              " <i class=\"icon-star\"></i>\n",
              " <i class=\"icon-star\"></i>\n",
              " <i class=\"icon-star\"></i>\n",
              " <i class=\"icon-star\"></i>\n",
              " </p>\n",
              " <h3><a href=\"catalogue/libertarianism-for-beginners_982/index.html\" title=\"Libertarianism for Beginners\">Libertarianism for Beginners</a></h3>\n",
              " <div class=\"product_price\">\n",
              " <p class=\"price_color\">Â£51.33</p>\n",
              " <p class=\"instock availability\">\n",
              " <i class=\"icon-ok\"></i>\n",
              "     \n",
              "         In stock\n",
              "     \n",
              " </p>\n",
              " <form>\n",
              " <button class=\"btn btn-primary btn-block\" data-loading-text=\"Adding...\" type=\"submit\">Add to basket</button>\n",
              " </form>\n",
              " </div>\n",
              " </article>,\n",
              " <article class=\"product_pod\">\n",
              " <div class=\"image_container\">\n",
              " <a href=\"catalogue/its-only-the-himalayas_981/index.html\"><img alt=\"It's Only the Himalayas\" class=\"thumbnail\" src=\"media/cache/27/a5/27a53d0bb95bdd88288eaf66c9230d7e.jpg\"/></a>\n",
              " </div>\n",
              " <p class=\"star-rating Two\">\n",
              " <i class=\"icon-star\"></i>\n",
              " <i class=\"icon-star\"></i>\n",
              " <i class=\"icon-star\"></i>\n",
              " <i class=\"icon-star\"></i>\n",
              " <i class=\"icon-star\"></i>\n",
              " </p>\n",
              " <h3><a href=\"catalogue/its-only-the-himalayas_981/index.html\" title=\"It's Only the Himalayas\">It's Only the Himalayas</a></h3>\n",
              " <div class=\"product_price\">\n",
              " <p class=\"price_color\">Â£45.17</p>\n",
              " <p class=\"instock availability\">\n",
              " <i class=\"icon-ok\"></i>\n",
              "     \n",
              "         In stock\n",
              "     \n",
              " </p>\n",
              " <form>\n",
              " <button class=\"btn btn-primary btn-block\" data-loading-text=\"Adding...\" type=\"submit\">Add to basket</button>\n",
              " </form>\n",
              " </div>\n",
              " </article>]"
            ]
          },
          "metadata": {},
          "execution_count": 23
        }
      ]
    },
    {
      "cell_type": "code",
      "source": [
        "#extract titles\n",
        "titles = [book.find('a', attrs={\"title\": True})['title'] for book in books]"
      ],
      "metadata": {
        "id": "nZYAy6qP0dWr"
      },
      "execution_count": null,
      "outputs": []
    },
    {
      "cell_type": "code",
      "source": [
        "for title in titles:\n",
        "    print(title)"
      ],
      "metadata": {
        "colab": {
          "base_uri": "https://localhost:8080/"
        },
        "id": "bi16K5fn4nJY",
        "outputId": "0c924a98-45d9-4784-c77a-2a8394ede726"
      },
      "execution_count": null,
      "outputs": [
        {
          "output_type": "stream",
          "name": "stdout",
          "text": [
            "A Light in the Attic\n",
            "Tipping the Velvet\n",
            "Soumission\n",
            "Sharp Objects\n",
            "Sapiens: A Brief History of Humankind\n",
            "The Requiem Red\n",
            "The Dirty Little Secrets of Getting Your Dream Job\n",
            "The Coming Woman: A Novel Based on the Life of the Infamous Feminist, Victoria Woodhull\n",
            "The Boys in the Boat: Nine Americans and Their Epic Quest for Gold at the 1936 Berlin Olympics\n",
            "The Black Maria\n",
            "Starving Hearts (Triangular Trade Trilogy, #1)\n",
            "Shakespeare's Sonnets\n",
            "Set Me Free\n",
            "Scott Pilgrim's Precious Little Life (Scott Pilgrim #1)\n",
            "Rip it Up and Start Again\n",
            "Our Band Could Be Your Life: Scenes from the American Indie Underground, 1981-1991\n",
            "Olio\n",
            "Mesaerion: The Best Science Fiction Stories 1800-1849\n",
            "Libertarianism for Beginners\n",
            "It's Only the Himalayas\n"
          ]
        }
      ]
    },
    {
      "cell_type": "code",
      "source": [
        "ratings = [book.find('p', attrs={\"class\":\"star-rating\"})for book in books]"
      ],
      "metadata": {
        "id": "bxSzYY8DD6KD"
      },
      "execution_count": null,
      "outputs": []
    },
    {
      "cell_type": "code",
      "source": [
        "for rating in ratings:\n",
        "    print(rating['class'][1])"
      ],
      "metadata": {
        "colab": {
          "base_uri": "https://localhost:8080/"
        },
        "id": "d_iTLdAl69BS",
        "outputId": "463c8a6e-2d3d-41d8-d605-16d0973415c8"
      },
      "execution_count": null,
      "outputs": [
        {
          "output_type": "stream",
          "name": "stdout",
          "text": [
            "Three\n",
            "One\n",
            "One\n",
            "Four\n",
            "Five\n",
            "One\n",
            "Four\n",
            "Three\n",
            "Four\n",
            "One\n",
            "Two\n",
            "Four\n",
            "Five\n",
            "Five\n",
            "Five\n",
            "Three\n",
            "One\n",
            "One\n",
            "Two\n",
            "Two\n"
          ]
        }
      ]
    },
    {
      "cell_type": "code",
      "source": [
        "prices = [book.find('p', attrs={\"class\":\"price_color\"})for book in books]"
      ],
      "metadata": {
        "id": "K5SK41GtEGjs"
      },
      "execution_count": null,
      "outputs": []
    },
    {
      "cell_type": "code",
      "source": [
        "for price in prices:\n",
        "    print(price.text[1:])"
      ],
      "metadata": {
        "colab": {
          "base_uri": "https://localhost:8080/"
        },
        "id": "njt7cRk07hsS",
        "outputId": "026c65bd-4f7c-4ae3-9bb1-7ac851982067"
      },
      "execution_count": null,
      "outputs": [
        {
          "output_type": "stream",
          "name": "stdout",
          "text": [
            "£51.77\n",
            "£53.74\n",
            "£50.10\n",
            "£47.82\n",
            "£54.23\n",
            "£22.65\n",
            "£33.34\n",
            "£17.93\n",
            "£22.60\n",
            "£52.15\n",
            "£13.99\n",
            "£20.66\n",
            "£17.46\n",
            "£52.29\n",
            "£35.02\n",
            "£57.25\n",
            "£23.88\n",
            "£37.59\n",
            "£51.33\n",
            "£45.17\n"
          ]
        }
      ]
    },
    {
      "cell_type": "code",
      "source": [
        "link =  book.find('a')['href']\n",
        "link"
      ],
      "metadata": {
        "colab": {
          "base_uri": "https://localhost:8080/",
          "height": 55
        },
        "id": "77Lws3LYV5EO",
        "outputId": "31e664e8-262f-4621-be86-953cd8b7e078"
      },
      "execution_count": null,
      "outputs": [
        {
          "output_type": "execute_result",
          "data": {
            "text/plain": [
              "'a-light-in-the-attic_1000/index.html'"
            ],
            "application/vnd.google.colaboratory.intrinsic+json": {
              "type": "string"
            }
          },
          "metadata": {},
          "execution_count": 114
        }
      ]
    },
    {
      "cell_type": "code",
      "source": [
        "from urllib.parse import urlparse, urljoin\n",
        "links = [book.find('a', attrs={\"href\":True})for book in books]\n",
        "for link in links:\n",
        "    href = link['href']\n",
        "    #full_url = urljoin(url, href)\n",
        "    print(href)"
      ],
      "metadata": {
        "colab": {
          "base_uri": "https://localhost:8080/"
        },
        "id": "nOIFqKmzEre_",
        "outputId": "378180d9-8cdd-46eb-e457-4e939f1e1161"
      },
      "execution_count": null,
      "outputs": [
        {
          "output_type": "stream",
          "name": "stdout",
          "text": [
            "a-light-in-the-attic_1000/index.html\n",
            "tipping-the-velvet_999/index.html\n",
            "soumission_998/index.html\n",
            "sharp-objects_997/index.html\n",
            "sapiens-a-brief-history-of-humankind_996/index.html\n",
            "the-requiem-red_995/index.html\n",
            "the-dirty-little-secrets-of-getting-your-dream-job_994/index.html\n",
            "the-coming-woman-a-novel-based-on-the-life-of-the-infamous-feminist-victoria-woodhull_993/index.html\n",
            "the-boys-in-the-boat-nine-americans-and-their-epic-quest-for-gold-at-the-1936-berlin-olympics_992/index.html\n",
            "the-black-maria_991/index.html\n",
            "starving-hearts-triangular-trade-trilogy-1_990/index.html\n",
            "shakespeares-sonnets_989/index.html\n",
            "set-me-free_988/index.html\n",
            "scott-pilgrims-precious-little-life-scott-pilgrim-1_987/index.html\n",
            "rip-it-up-and-start-again_986/index.html\n",
            "our-band-could-be-your-life-scenes-from-the-american-indie-underground-1981-1991_985/index.html\n",
            "olio_984/index.html\n",
            "mesaerion-the-best-science-fiction-stories-1800-1849_983/index.html\n",
            "libertarianism-for-beginners_982/index.html\n",
            "its-only-the-himalayas_981/index.html\n"
          ]
        }
      ]
    },
    {
      "cell_type": "code",
      "source": [
        "def get_books_details(books):\n",
        "  titles = [books.find('a', attrs={\"title\": True})['title']]\n",
        "  ratings = [books.find('p', attrs={\"class\":\"star-rating\"})]\n",
        "  prices = [books.find('p', attrs={\"class\":\"price_color\"})]\n",
        "  links = [books.find('a', attrs={\"href\":True})]\n",
        "  title = titles[0]\n",
        "  rating = ratings[0]['class'][1]\n",
        "  price = prices[0].text[1:]\n",
        "  href = links[0]['href']\n",
        "  link = urljoin(url, href)\n",
        "  return title, rating, price,link\n"
      ],
      "metadata": {
        "id": "QtzXpnsa9gDl"
      },
      "execution_count": null,
      "outputs": []
    },
    {
      "cell_type": "code",
      "source": [
        "books_list = [get_books_details(book) for book in books]\n",
        "books_list"
      ],
      "metadata": {
        "colab": {
          "base_uri": "https://localhost:8080/"
        },
        "id": "YCRROpsnKljd",
        "outputId": "7cafeed7-f180-42d8-ed37-30a80a8976b7"
      },
      "execution_count": null,
      "outputs": [
        {
          "output_type": "execute_result",
          "data": {
            "text/plain": [
              "[('A Light in the Attic',\n",
              "  'Three',\n",
              "  '£51.77',\n",
              "  'http://books.toscrape.com/catalogue/a-light-in-the-attic_1000/index.html'),\n",
              " ('Tipping the Velvet',\n",
              "  'One',\n",
              "  '£53.74',\n",
              "  'http://books.toscrape.com/catalogue/tipping-the-velvet_999/index.html'),\n",
              " ('Soumission',\n",
              "  'One',\n",
              "  '£50.10',\n",
              "  'http://books.toscrape.com/catalogue/soumission_998/index.html'),\n",
              " ('Sharp Objects',\n",
              "  'Four',\n",
              "  '£47.82',\n",
              "  'http://books.toscrape.com/catalogue/sharp-objects_997/index.html'),\n",
              " ('Sapiens: A Brief History of Humankind',\n",
              "  'Five',\n",
              "  '£54.23',\n",
              "  'http://books.toscrape.com/catalogue/sapiens-a-brief-history-of-humankind_996/index.html'),\n",
              " ('The Requiem Red',\n",
              "  'One',\n",
              "  '£22.65',\n",
              "  'http://books.toscrape.com/catalogue/the-requiem-red_995/index.html'),\n",
              " ('The Dirty Little Secrets of Getting Your Dream Job',\n",
              "  'Four',\n",
              "  '£33.34',\n",
              "  'http://books.toscrape.com/catalogue/the-dirty-little-secrets-of-getting-your-dream-job_994/index.html'),\n",
              " ('The Coming Woman: A Novel Based on the Life of the Infamous Feminist, Victoria Woodhull',\n",
              "  'Three',\n",
              "  '£17.93',\n",
              "  'http://books.toscrape.com/catalogue/the-coming-woman-a-novel-based-on-the-life-of-the-infamous-feminist-victoria-woodhull_993/index.html'),\n",
              " ('The Boys in the Boat: Nine Americans and Their Epic Quest for Gold at the 1936 Berlin Olympics',\n",
              "  'Four',\n",
              "  '£22.60',\n",
              "  'http://books.toscrape.com/catalogue/the-boys-in-the-boat-nine-americans-and-their-epic-quest-for-gold-at-the-1936-berlin-olympics_992/index.html'),\n",
              " ('The Black Maria',\n",
              "  'One',\n",
              "  '£52.15',\n",
              "  'http://books.toscrape.com/catalogue/the-black-maria_991/index.html'),\n",
              " ('Starving Hearts (Triangular Trade Trilogy, #1)',\n",
              "  'Two',\n",
              "  '£13.99',\n",
              "  'http://books.toscrape.com/catalogue/starving-hearts-triangular-trade-trilogy-1_990/index.html'),\n",
              " (\"Shakespeare's Sonnets\",\n",
              "  'Four',\n",
              "  '£20.66',\n",
              "  'http://books.toscrape.com/catalogue/shakespeares-sonnets_989/index.html'),\n",
              " ('Set Me Free',\n",
              "  'Five',\n",
              "  '£17.46',\n",
              "  'http://books.toscrape.com/catalogue/set-me-free_988/index.html'),\n",
              " (\"Scott Pilgrim's Precious Little Life (Scott Pilgrim #1)\",\n",
              "  'Five',\n",
              "  '£52.29',\n",
              "  'http://books.toscrape.com/catalogue/scott-pilgrims-precious-little-life-scott-pilgrim-1_987/index.html'),\n",
              " ('Rip it Up and Start Again',\n",
              "  'Five',\n",
              "  '£35.02',\n",
              "  'http://books.toscrape.com/catalogue/rip-it-up-and-start-again_986/index.html'),\n",
              " ('Our Band Could Be Your Life: Scenes from the American Indie Underground, 1981-1991',\n",
              "  'Three',\n",
              "  '£57.25',\n",
              "  'http://books.toscrape.com/catalogue/our-band-could-be-your-life-scenes-from-the-american-indie-underground-1981-1991_985/index.html'),\n",
              " ('Olio',\n",
              "  'One',\n",
              "  '£23.88',\n",
              "  'http://books.toscrape.com/catalogue/olio_984/index.html'),\n",
              " ('Mesaerion: The Best Science Fiction Stories 1800-1849',\n",
              "  'One',\n",
              "  '£37.59',\n",
              "  'http://books.toscrape.com/catalogue/mesaerion-the-best-science-fiction-stories-1800-1849_983/index.html'),\n",
              " ('Libertarianism for Beginners',\n",
              "  'Two',\n",
              "  '£51.33',\n",
              "  'http://books.toscrape.com/catalogue/libertarianism-for-beginners_982/index.html'),\n",
              " (\"It's Only the Himalayas\",\n",
              "  'Two',\n",
              "  '£45.17',\n",
              "  'http://books.toscrape.com/catalogue/its-only-the-himalayas_981/index.html')]"
            ]
          },
          "metadata": {},
          "execution_count": 98
        }
      ]
    },
    {
      "cell_type": "code",
      "source": [
        "from bs4 import BeautifulSoup\n",
        "import requests\n",
        "from urllib.parse import urljoin\n",
        "# Base URL pattern of the site you are scraping\n",
        "url='http://books.toscrape.com/catalogue/'\n",
        "base_url = 'http://books.toscrape.com/catalogue/page-{}.html'\n",
        "def get_books_details(book, base_url):\n",
        "  title = book.find('a', attrs={\"title\": True})['title']\n",
        "  rating = book.find('p', attrs={\"class\": \"star-rating\"})['class'][1]\n",
        "  price = book.find('p', attrs={\"class\": \"price_color\"}).text[1:]\n",
        "  href = book.find('a', attrs={\"href\": True})['href']\n",
        "  link = urljoin(url, href)\n",
        "  return title, rating, price, link\n",
        "# Lists to store the details\n",
        "titles = []\n",
        "ratings = []\n",
        "prices = []\n",
        "links = []\n",
        "# Loop through each page (1 to 20)\n",
        "for page_num in range(1, 21):\n",
        "    # Construct the URL for each page\n",
        "    page_url = base_url.format(page_num)\n",
        "    # Request the page content\n",
        "    response = requests.get(page_url)\n",
        "    soup = BeautifulSoup(response.content, 'html.parser')\n",
        "    # Find all books on the page\n",
        "    books = soup.find_all(\"article\", attrs={\"class\": \"product_pod\"})\n",
        "    # Loop through each book and get details\n",
        "    for book in books:\n",
        "        title, rating, price, link = get_books_details(book, page_url)\n",
        "        titles.append(title)\n",
        "        ratings.append(rating)\n",
        "        prices.append(price)\n",
        "        links.append(link)\n",
        "# Output the lists\n",
        "print(\"Titles:\", titles)\n",
        "print(\"Ratings:\", ratings)\n",
        "print(\"Prices:\", prices)\n",
        "print(\"Links:\", links)\n"
      ],
      "metadata": {
        "colab": {
          "base_uri": "https://localhost:8080/"
        },
        "id": "_1LIMLUFKxO_",
        "outputId": "5c4ab146-9596-4199-f2b0-df08259e9e66"
      },
      "execution_count": null,
      "outputs": [
        {
          "output_type": "stream",
          "name": "stdout",
          "text": [
            "Titles: ['A Light in the Attic', 'Tipping the Velvet', 'Soumission', 'Sharp Objects', 'Sapiens: A Brief History of Humankind', 'The Requiem Red', 'The Dirty Little Secrets of Getting Your Dream Job', 'The Coming Woman: A Novel Based on the Life of the Infamous Feminist, Victoria Woodhull', 'The Boys in the Boat: Nine Americans and Their Epic Quest for Gold at the 1936 Berlin Olympics', 'The Black Maria', 'Starving Hearts (Triangular Trade Trilogy, #1)', \"Shakespeare's Sonnets\", 'Set Me Free', \"Scott Pilgrim's Precious Little Life (Scott Pilgrim #1)\", 'Rip it Up and Start Again', 'Our Band Could Be Your Life: Scenes from the American Indie Underground, 1981-1991', 'Olio', 'Mesaerion: The Best Science Fiction Stories 1800-1849', 'Libertarianism for Beginners', \"It's Only the Himalayas\", 'In Her Wake', 'How Music Works', 'Foolproof Preserving: A Guide to Small Batch Jams, Jellies, Pickles, Condiments, and More: A Foolproof Guide to Making Small Batch Jams, Jellies, Pickles, Condiments, and More', 'Chase Me (Paris Nights #2)', 'Black Dust', 'Birdsong: A Story in Pictures', \"America's Cradle of Quarterbacks: Western Pennsylvania's Football Factory from Johnny Unitas to Joe Montana\", 'Aladdin and His Wonderful Lamp', 'Worlds Elsewhere: Journeys Around Shakespeare’s Globe', 'Wall and Piece', 'The Four Agreements: A Practical Guide to Personal Freedom', 'The Five Love Languages: How to Express Heartfelt Commitment to Your Mate', 'The Elephant Tree', 'The Bear and the Piano', \"Sophie's World\", 'Penny Maybe', 'Maude (1883-1993):She Grew Up with the country', 'In a Dark, Dark Wood', 'Behind Closed Doors', \"You can't bury them all: Poems\", 'Slow States of Collapse: Poems', 'Reasons to Stay Alive', 'Private Paris (Private #10)', '#HigherSelfie: Wake Up Your Life. Free Your Soul. Find Your Tribe.', 'Without Borders (Wanderlove #1)', 'When We Collided', 'We Love You, Charlie Freeman', 'Untitled Collection: Sabbath Poems 2014', 'Unseen City: The Majesty of Pigeons, the Discreet Charm of Snails & Other Wonders of the Urban Wilderness', 'Unicorn Tracks', 'Unbound: How Eight Technologies Made Us Human, Transformed Society, and Brought Our World to the Brink', 'Tsubasa: WoRLD CHRoNiCLE 2 (Tsubasa WoRLD CHRoNiCLE #2)', 'Throwing Rocks at the Google Bus: How Growth Became the Enemy of Prosperity', 'This One Summer', 'Thirst', 'The Torch Is Passed: A Harding Family Story', 'The Secret of Dreadwillow Carse', 'The Pioneer Woman Cooks: Dinnertime: Comfort Classics, Freezer Food, 16-Minute Meals, and Other Delicious Ways to Solve Supper!', 'The Past Never Ends', 'The Natural History of Us (The Fine Art of Pretending #2)', 'The Nameless City (The Nameless City #1)', 'The Murder That Never Was (Forensic Instincts #5)', \"The Most Perfect Thing: Inside (and Outside) a Bird's Egg\", 'The Mindfulness and Acceptance Workbook for Anxiety: A Guide to Breaking Free from Anxiety, Phobias, and Worry Using Acceptance and Commitment Therapy', 'The Life-Changing Magic of Tidying Up: The Japanese Art of Decluttering and Organizing', 'The Inefficiency Assassin: Time Management Tactics for Working Smarter, Not Longer', 'The Gutsy Girl: Escapades for Your Life of Epic Adventure', 'The Electric Pencil: Drawings from Inside State Hospital No. 3', 'The Death of Humanity: and the Case for Life', 'The Bulletproof Diet: Lose up to a Pound a Day, Reclaim Energy and Focus, Upgrade Your Life', 'The Art Forger', 'The Age of Genius: The Seventeenth Century and the Birth of the Modern Mind', \"The Activist's Tao Te Ching: Ancient Advice for a Modern Revolution\", 'Spark Joy: An Illustrated Master Class on the Art of Organizing and Tidying Up', 'Soul Reader', 'Security', 'Saga, Volume 6 (Saga (Collected Editions) #6)', 'Saga, Volume 5 (Saga (Collected Editions) #5)', 'Reskilling America: Learning to Labor in the Twenty-First Century', 'Rat Queens, Vol. 3: Demons (Rat Queens (Collected Editions) #11-15)', 'Princess Jellyfish 2-in-1 Omnibus, Vol. 01 (Princess Jellyfish 2-in-1 Omnibus #1)', 'Princess Between Worlds (Wide-Awake Princess #5)', 'Pop Gun War, Volume 1: Gift', 'Political Suicide: Missteps, Peccadilloes, Bad Calls, Backroom Hijinx, Sordid Pasts, Rotten Breaks, and Just Plain Dumb Mistakes in the Annals of American Politics', 'Patience', 'Outcast, Vol. 1: A Darkness Surrounds Him (Outcast #1)', 'orange: The Complete Collection 1 (orange: The Complete Collection #1)', 'Online Marketing for Busy Authors: A Step-By-Step Guide', 'On a Midnight Clear', 'Obsidian (Lux #1)', 'My Paris Kitchen: Recipes and Stories', 'Masks and Shadows', 'Mama Tried: Traditional Italian Cooking for the Screwed, Crude, Vegan, and Tattooed', 'Lumberjanes, Vol. 2: Friendship to the Max (Lumberjanes #5-8)', 'Lumberjanes, Vol. 1: Beware the Kitten Holy (Lumberjanes #1-4)', 'Lumberjanes Vol. 3: A Terrible Plan (Lumberjanes #9-12)', 'Layered: Baking, Building, and Styling Spectacular Cakes', 'Judo: Seven Steps to Black Belt (an Introductory Guide for Beginners)', 'Join', 'In the Country We Love: My Family Divided', 'Immunity: How Elie Metchnikoff Changed the Course of Modern Medicine', 'I Hate Fairyland, Vol. 1: Madly Ever After (I Hate Fairyland (Compilations) #1-5)', 'I am a Hero Omnibus Volume 1', 'How to Be Miserable: 40 Strategies You Already Use', 'Her Backup Boyfriend (The Sorensen Family #1)', 'Giant Days, Vol. 2 (Giant Days #5-8)', 'Forever and Forever: The Courtship of Henry Longfellow and Fanny Appleton', 'First and First (Five Boroughs #3)', 'Fifty Shades Darker (Fifty Shades #2)', 'Everydata: The Misinformation Hidden in the Little Data You Consume Every Day', \"Don't Be a Jerk: And Other Practical Advice from Dogen, Japan's Greatest Zen Master\", 'Danganronpa Volume 1', 'Crown of Midnight (Throne of Glass #2)', 'Codename Baboushka, Volume 1: The Conclave of Death', 'Camp Midnight', 'Call the Nurse: True Stories of a Country Nurse on a Scottish Isle', 'Burning', 'Bossypants', 'Bitch Planet, Vol. 1: Extraordinary Machine (Bitch Planet (Collected Editions))', 'Avatar: The Last Airbender: Smoke and Shadow, Part 3 (Smoke and Shadow #3)', 'Algorithms to Live By: The Computer Science of Human Decisions', 'A World of Flavor: Your Gluten Free Passport', 'A Piece of Sky, a Grain of Rice: A Memoir in Four Meditations', 'A Murder in Time', 'A Flight of Arrows (The Pathfinders #2)', 'A Fierce and Subtle Poison', 'A Court of Thorns and Roses (A Court of Thorns and Roses #1)', '(Un)Qualified: How God Uses Broken People to Do Big Things', 'You Are What You Love: The Spiritual Power of Habit', \"William Shakespeare's Star Wars: Verily, A New Hope (William Shakespeare's Star Wars #4)\", 'Tuesday Nights in 1980', 'Tracing Numbers on a Train', 'Throne of Glass (Throne of Glass #1)', 'Thomas Jefferson and the Tripoli Pirates: The Forgotten War That Changed American History', 'Thirteen Reasons Why', 'The White Cat and the Monk: A Retelling of the Poem “Pangur Bán”', 'The Wedding Dress', 'The Vacationers', 'The Third Wave: An Entrepreneur’s Vision of the Future', 'The Stranger', 'The Shadow Hero (The Shadow Hero)', 'The Secret (The Secret #1)', 'The Regional Office Is Under Attack!', 'The Psychopath Test: A Journey Through the Madness Industry', 'The Project', 'The Power of Now: A Guide to Spiritual Enlightenment', \"The Omnivore's Dilemma: A Natural History of Four Meals\", 'The Nerdy Nummies Cookbook: Sweet Treats for the Geek in All of Us', 'The Murder of Roger Ackroyd (Hercule Poirot #4)', 'The Mistake (Off-Campus #2)', \"The Matchmaker's Playbook (Wingmen Inc. #1)\", 'The Love and Lemons Cookbook: An Apple-to-Zucchini Celebration of Impromptu Cooking', 'The Long Shadow of Small Ghosts: Murder and Memory in an American City', 'The Kite Runner', 'The House by the Lake', 'The Glittering Court (The Glittering Court #1)', 'The Girl on the Train', 'The Genius of Birds', 'The Emerald Mystery', 'The Cookies & Cups Cookbook: 125+ sweet & savory recipes reminding you to Always Eat Dessert First', \"The Bridge to Consciousness: I'm Writing the Bridge Between Science and Our Old and New Beliefs.\", \"The Artist's Way: A Spiritual Path to Higher Creativity\", 'The Art of War', 'The Argonauts', 'The 10% Entrepreneur: Live Your Startup Dream Without Quitting Your Day Job', 'Suddenly in Love (Lake Haven #1)', 'Something More Than This', 'Soft Apocalypse', \"So You've Been Publicly Shamed\", 'Shoe Dog: A Memoir by the Creator of NIKE', 'Shobu Samurai, Project Aryoku (#3)', 'Secrets and Lace (Fatal Hearts #1)', 'Scarlett Epstein Hates It Here', 'Romero and Juliet: A Tragic Tale of Love and Zombies', 'Redeeming Love', 'Poses for Artists Volume 1 - Dynamic and Sitting Poses: An Essential Reference for Figure Drawing and the Human Form', 'Poems That Make Grown Women Cry', 'Nightingale, Sing', 'Night Sky with Exit Wounds', 'Mrs. Houdini', 'Modern Romance', 'Miss Peregrine’s Home for Peculiar Children (Miss Peregrine’s Peculiar Children #1)', 'Louisa: The Extraordinary Life of Mrs. Adams', 'Little Red', 'Library of Souls (Miss Peregrine’s Peculiar Children #3)', 'Large Print Heart of the Pride', 'I Had a Nice Time And Other Lies...: How to find love & sh*t like that', 'Hollow City (Miss Peregrine’s Peculiar Children #2)', 'Grumbles', 'Full Moon over Noah’s Ark: An Odyssey to Mount Ararat and Beyond', 'Frostbite (Vampire Academy #2)', 'Follow You Home', 'First Steps for New Christians (Print Edition)', 'Finders Keepers (Bill Hodges Trilogy #2)', 'Fables, Vol. 1: Legends in Exile (Fables #1)', 'Eureka Trivia 6.0', 'Drive: The Surprising Truth About What Motivates Us', 'Done Rubbed Out (Reightman & Bailey #1)', 'Doing It Over (Most Likely To #1)', 'Deliciously Ella Every Day: Quick and Easy Recipes for Gluten-Free Snacks, Packed Lunches, and Simple Meals', 'Dark Notes', 'Daring Greatly: How the Courage to Be Vulnerable Transforms the Way We Live, Love, Parent, and Lead', 'Close to You', 'Chasing Heaven: What Dying Taught Me About Living', 'Big Magic: Creative Living Beyond Fear', 'Becoming Wise: An Inquiry into the Mystery and Art of Living', 'Beauty Restored (Riley Family Legacy Novellas #3)', 'Batman: The Long Halloween (Batman)', 'Batman: The Dark Knight Returns (Batman)', \"Ayumi's Violin\", 'Anonymous', 'Amy Meets the Saints and Sages', 'Amid the Chaos', 'Amatus', 'Agnostic: A Spirited Manifesto', 'Zealot: The Life and Times of Jesus of Nazareth', 'You (You #1)', 'Wonder Woman: Earth One, Volume One (Wonder Woman: Earth One #1)', 'Wild Swans', 'Why the Right Went Wrong: Conservatism--From Goldwater to the Tea Party and Beyond', 'Whole Lotta Creativity Going On: 60 Fun and Unusual Exercises to Awaken and Strengthen Your Creativity', \"What's It Like in Space?: Stories from Astronauts Who've Been There\", 'We Are Robin, Vol. 1: The Vigilante Business (We Are Robin #1)', \"Walt Disney's Alice in Wonderland\", 'V for Vendetta (V for Vendetta Complete)', 'Until Friday Night (The Field Party #1)', 'Unbroken: A World War II Story of Survival, Resilience, and Redemption', 'Twenty Yawns', 'Through the Woods', 'This Is Where It Ends', 'The Year of Magical Thinking', 'The Wright Brothers', \"The White Queen (The Cousins' War #1)\", \"The Wedding Pact (The O'Malleys #2)\", 'The Time Keeper', 'The Testament of Mary', 'The Star-Touched Queen', 'The Songs of the Gods', 'The Song of Achilles', 'The Rosie Project (Don Tillman #1)', 'The Power of Habit: Why We Do What We Do in Life and Business', 'The Marriage of Opposites', 'The Lucifer Effect: Understanding How Good People Turn Evil', 'The Long Haul (Diary of a Wimpy Kid #9)', 'The Loney', 'The Literature Book (Big Ideas Simply Explained)', 'The Last Mile (Amos Decker #2)', 'The Immortal Life of Henrietta Lacks', 'The Hidden Oracle (The Trials of Apollo #1)', 'The Help Yourself Cookbook for Kids: 60 Easy Plant-Based Recipes Kids Can Make to Stay Healthy and Save the Earth', 'The Guilty (Will Robie #4)', 'The First Hostage (J.B. Collins #2)', 'The Dovekeepers', 'The Darkest Lie', 'The Bane Chronicles (The Bane Chronicles #1-11)', 'The Bad-Ass Librarians of Timbuktu: And Their Race to Save the World’s Most Precious Manuscripts', 'The 14th Colony (Cotton Malone #11)', 'That Darkness (Gardiner and Renner #1)', 'Tastes Like Fear (DI Marnie Rome #3)', 'Take Me with You', 'Swell: A Year of Waves', 'Superman Vol. 1: Before Truth (Superman by Gene Luen Yang #1)', 'Still Life with Bread Crumbs', 'Steve Jobs', 'Sorting the Beef from the Bull: The Science of Food Fraud Forensics', 'Someone Like You (The Harrisons #2)', 'So Cute It Hurts!!, Vol. 6 (So Cute It Hurts!! #6)', 'Shtum', 'See America: A Celebration of Our National Parks & Treasured Sites', 'salt.', 'Robin War', 'Red Hood/Arsenal, Vol. 1: Open for Business (Red Hood/Arsenal #1)', 'Rain Fish', 'Quarter Life Poetry: Poems for the Young, Broke and Hangry', 'Pet Sematary', 'Overload: How to Unplug, Unwind, and Unleash Yourself from the Pressure of Stress', 'Once Was a Time', 'Old School (Diary of a Wimpy Kid #10)', 'No Dream Is Too High: Life Lessons From a Man Who Walked on the Moon', 'Naruto (3-in-1 Edition), Vol. 14: Includes Vols. 40, 41 & 42 (Naruto: Omnibus #14)', 'My Name Is Lucy Barton', 'My Mrs. Brown', 'My Kind of Crazy', 'Mr. Mercedes (Bill Hodges Trilogy #1)', 'More Than Music (Chasing the Dream #1)', 'Made to Stick: Why Some Ideas Survive and Others Die', 'Luis Paints the World', 'Luckiest Girl Alive', 'Lowriders to the Center of the Earth (Lowriders in Space #2)', 'Love Is a Mix Tape (Music #1)', 'Looking for Lovely: Collecting the Moments that Matter', 'Living Leadership by Insight: A Good Leader Achieves, a Great Leader Builds Monuments', 'Let It Out: A Journey Through Journaling', 'Lady Midnight (The Dark Artifices #1)', \"It's All Easy: Healthy, Delicious Weeknight Meals in under 30 Minutes\", 'Island of Dragons (Unwanteds #7)', \"I Know What I'm Doing -- and Other Lies I Tell Myself: Dispatches from a Life Under Construction\", 'I Am Pilgrim (Pilgrim #1)', 'Hyperbole and a Half: Unfortunate Situations, Flawed Coping Mechanisms, Mayhem, and Other Things That Happened', 'Hush, Hush (Hush, Hush #1)', 'Hold Your Breath (Search and Rescue #1)', 'Hamilton: The Revolution', 'Greek Mythic History', 'God: The Most Unpleasant Character in All Fiction', 'Glory over Everything: Beyond The Kitchen House', 'Feathers: Displays of Brilliant Plumage', 'Far & Away: Places on the Brink of Change: Seven Continents, Twenty-Five Years', 'Every Last Word', 'Eligible (The Austen Project #4)', 'El Deafo', 'Eight Hundred Grapes', 'Eaternity: More than 150 Deliciously Easy Vegan Recipes for a Long, Healthy, Satisfied, Joyful Life', 'Eat Fat, Get Thin', \"Don't Get Caught\", 'Doctor Sleep (The Shining #2)', 'Demigods & Magicians: Percy and Annabeth Meet the Kanes (Percy Jackson & Kane Chronicles Crossover #1-3)', 'Dear Mr. Knightley', 'Daily Fantasy Sports', 'Crazy Love: Overwhelmed by a Relentless God', 'Cometh the Hour (The Clifton Chronicles #6)', 'Code Name Verity (Code Name Verity #1)', 'Clockwork Angel (The Infernal Devices #1)', 'City of Glass (The Mortal Instruments #3)', 'City of Fallen Angels (The Mortal Instruments #4)', 'City of Bones (The Mortal Instruments #1)', 'City of Ashes (The Mortal Instruments #2)', 'Cell', 'Catching Jordan (Hundred Oaks)', 'Carry On, Warrior: Thoughts on Life Unarmed', 'Carrie', 'Buying In: The Secret Dialogue Between What We Buy and Who We Are', 'Brain on Fire: My Month of Madness', 'Batman: Europa', 'Barefoot Contessa Back to Basics', \"Barefoot Contessa at Home: Everyday Recipes You'll Make Over and Over Again\", 'Balloon Animals', 'Art Ops Vol. 1', 'Aristotle and Dante Discover the Secrets of the Universe (Aristotle and Dante Discover the Secrets of the Universe #1)', 'Angels Walking (Angels Walking #1)', 'Angels & Demons (Robert Langdon #1)', 'All the Light We Cannot See', 'Adulthood Is a Myth: A \"Sarah\\'s Scribbles\" Collection', 'Abstract City', 'A Time of Torment (Charlie Parker #14)', 'A Study in Scarlet (Sherlock Holmes #1)', 'A Series of Catastrophes and Miracles: A True Story of Love, Science, and Cancer', \"A People's History of the United States\", 'A Man Called Ove', 'A Distant Mirror: The Calamitous 14th Century', 'A Brush of Wings (Angels Walking #3)', '1491: New Revelations of the Americas Before Columbus', 'The Three Searches, Meaning, and the Story', 'Searching for Meaning in Gailana', 'Rook', 'My Kitchen Year: 136 Recipes That Saved My Life', '13 Hours: The Inside Account of What Really Happened In Benghazi', \"Will You Won't You Want Me?\", 'Tipping Point for Planet Earth: How Close Are We to the Edge?', 'The Star-Touched Queen', 'The Silent Sister (Riley MacPherson #1)', 'The Midnight Watch: A Novel of the Titanic and the Californian', 'The Lonely City: Adventures in the Art of Being Alone', 'The Gray Rhino: How to Recognize and Act on the Obvious Dangers We Ignore', 'The Golden Condom: And Other Essays on Love Lost and Found', 'The Epidemic (The Program 0.6)', 'The Dinner Party', 'The Diary of a Young Girl', 'The Children', 'Stars Above (The Lunar Chronicles #4.5)', 'Snatched: How A Drug Queen Went Undercover for the DEA and Was Kidnapped By Colombian Guerillas', 'Raspberry Pi Electronics Projects for the Evil Genius', 'Quench Your Own Thirst: Business Lessons Learned Over a Beer or Two', 'Psycho: Sanitarium (Psycho #1.5)', 'Poisonous (Max Revere Novels #3)', 'One with You (Crossfire #5)', 'No Love Allowed (Dodge Cove #1)', 'Murder at the 42nd Street Library (Raymond Ambler #1)', 'Most Wanted', 'Love, Lies and Spies', 'How to Speak Golf: An Illustrated Guide to Links Lingo', 'Hide Away (Eve Duncan #20)', 'Furiously Happy: A Funny Book About Horrible Things', 'Everyday Italian: 125 Simple and Delicious Recipes', \"Equal Is Unfair: America's Misguided Fight Against Income Inequality\", 'Eleanor & Park', 'Dirty (Dive Bar #1)', 'Can You Keep a Secret? (Fear Street Relaunch #4)', 'Boar Island (Anna Pigeon #19)', 'A Paris Apartment', 'A la Mode: 120 Recipes in 60 Pairings: Pies, Tarts, Cakes, Crisps, and More Topped with Ice Cream, Gelato, Frozen Custard, and More', 'Troublemaker: Surviving Hollywood and Scientology', 'The Widow', 'The Sleep Revolution: Transforming Your Life, One Night at a Time', 'The Improbability of Love', 'The Art of Startup Fundraising', 'Take Me Home Tonight (Rock Star Romance #3)', 'Sleeping Giants (Themis Files #1)', 'Setting the World on Fire: The Brief, Astonishing Life of St. Catherine of Siena', 'Playing with Fire', 'Off the Hook (Fishing for Trouble #1)']\n",
            "Ratings: ['Three', 'One', 'One', 'Four', 'Five', 'One', 'Four', 'Three', 'Four', 'One', 'Two', 'Four', 'Five', 'Five', 'Five', 'Three', 'One', 'One', 'Two', 'Two', 'One', 'Two', 'Three', 'Five', 'Five', 'Three', 'Three', 'Three', 'Five', 'Four', 'Five', 'Three', 'Five', 'One', 'Five', 'Three', 'Two', 'One', 'Four', 'Two', 'Three', 'Two', 'Five', 'Five', 'Two', 'One', 'Five', 'Four', 'Four', 'Three', 'One', 'One', 'Three', 'Four', 'Five', 'One', 'One', 'One', 'Four', 'Three', 'Four', 'Three', 'Four', 'Four', 'Three', 'Five', 'One', 'One', 'Four', 'Three', 'Three', 'One', 'Five', 'Four', 'Two', 'Two', 'Three', 'Two', 'Two', 'Three', 'Five', 'Five', 'One', 'Two', 'Three', 'Four', 'One', 'One', 'Three', 'Two', 'Two', 'Two', 'Four', 'Two', 'Three', 'Two', 'One', 'Two', 'Five', 'Four', 'Five', 'Two', 'Three', 'One', 'One', 'Two', 'Three', 'Four', 'One', 'Two', 'Two', 'Four', 'Three', 'Four', 'Four', 'Five', 'Three', 'Two', 'Two', 'Two', 'One', 'One', 'Five', 'One', 'Five', 'Four', 'One', 'Five', 'Four', 'Four', 'Two', 'Three', 'Three', 'One', 'One', 'Four', 'One', 'Four', 'Five', 'Four', 'One', 'Four', 'Five', 'Two', 'One', 'Two', 'Two', 'Five', 'Four', 'Three', 'One', 'Two', 'One', 'Four', 'One', 'One', 'Two', 'One', 'Two', 'One', 'Three', 'Five', 'Five', 'Two', 'Three', 'Two', 'Four', 'Two', 'Two', 'Two', 'Three', 'One', 'Five', 'One', 'Five', 'One', 'Four', 'One', 'One', 'Five', 'Five', 'One', 'Two', 'Three', 'Five', 'Two', 'Four', 'One', 'Two', 'Four', 'Five', 'One', 'One', 'Five', 'Four', 'Four', 'Four', 'Five', 'Three', 'Three', 'Five', 'Three', 'Four', 'Two', 'Three', 'Two', 'Two', 'Two', 'Five', 'Two', 'Four', 'Three', 'One', 'Five', 'Five', 'Three', 'Five', 'Four', 'Two', 'Four', 'Four', 'Two', 'One', 'Five', 'Four', 'Two', 'Two', 'Two', 'Two', 'Two', 'Two', 'Four', 'Five', 'Three', 'Five', 'Four', 'Five', 'Five', 'Five', 'One', 'Three', 'Four', 'One', 'One', 'One', 'Three', 'Two', 'Two', 'Two', 'Three', 'Two', 'Three', 'One', 'Five', 'Four', 'One', 'One', 'One', 'One', 'Three', 'One', 'Five', 'Three', 'Five', 'Four', 'Five', 'Four', 'Four', 'Three', 'Four', 'Three', 'Two', 'Three', 'Five', 'Three', 'Three', 'Two', 'Five', 'Two', 'Two', 'One', 'Three', 'One', 'One', 'Two', 'Five', 'Three', 'Three', 'Two', 'One', 'Five', 'Four', 'Five', 'Five', 'One', 'One', 'Four', 'Four', 'Five', 'Three', 'One', 'Three', 'Five', 'Five', 'Three', 'Three', 'Four', 'Three', 'Three', 'Five', 'Four', 'Five', 'Two', 'One', 'Two', 'Five', 'Five', 'One', 'Two', 'Three', 'Four', 'One', 'Four', 'Four', 'One', 'One', 'Four', 'Three', 'Three', 'Two', 'Four', 'Five', 'Two', 'One', 'Five', 'Three', 'Three', 'Four', 'Two', 'Three', 'Five', 'Two', 'Five', 'Five', 'Two', 'Two', 'Two', 'One', 'Three', 'One', 'Three', 'Three', 'One', 'Four', 'Two', 'One', 'Three', 'One', 'Five', 'Five', 'One', 'Two', 'Four', 'One', 'Five', 'Two', 'Three', 'Three', 'Two', 'Three', 'Four', 'One', 'Five', 'Three', 'Four', 'Four', 'Four', 'Three', 'Two', 'Five', 'One', 'Four', 'Five', 'One', 'Five', 'Four', 'One', 'Three', 'Four', 'One', 'Two', 'Two', 'Four', 'One', 'Three', 'Three', 'One', 'Two', 'Three', 'Three']\n",
            "Prices: ['51.77', '53.74', '50.10', '47.82', '54.23', '22.65', '33.34', '17.93', '22.60', '52.15', '13.99', '20.66', '17.46', '52.29', '35.02', '57.25', '23.88', '37.59', '51.33', '45.17', '12.84', '37.32', '30.52', '25.27', '34.53', '54.64', '22.50', '53.13', '40.30', '44.18', '17.66', '31.05', '23.82', '36.89', '15.94', '33.29', '18.02', '19.63', '52.22', '33.63', '57.31', '26.41', '47.61', '23.11', '45.07', '31.77', '50.27', '14.27', '44.18', '18.78', '25.52', '16.28', '31.12', '19.49', '17.27', '19.09', '56.13', '56.41', '56.50', '45.22', '38.16', '54.11', '42.96', '23.89', '16.77', '20.59', '37.13', '56.06', '58.11', '49.05', '40.76', '19.73', '32.24', '41.83', '39.58', '39.25', '25.02', '51.04', '19.83', '50.40', '13.61', '13.34', '18.97', '36.28', '10.16', '15.44', '48.41', '46.35', '14.07', '14.86', '33.37', '56.40', '14.02', '46.91', '45.61', '19.92', '40.11', '53.90', '35.67', '22.00', '57.36', '29.17', '54.63', '46.03', '33.97', '22.11', '29.69', '15.97', '21.96', '54.35', '37.97', '51.99', '43.29', '36.72', '17.08', '29.14', '28.81', '49.46', '37.92', '28.09', '30.81', '42.95', '56.76', '16.64', '55.53', '28.13', '52.37', '54.00', '21.87', '43.30', '21.04', '41.60', '35.07', '59.64', '52.72', '58.08', '24.12', '42.15', '12.61', '17.44', '33.14', '27.37', '51.36', '36.00', '10.65', '43.54', '38.21', '37.34', '44.10', '43.29', '55.85', '37.60', '10.97', '41.82', '36.95', '44.28', '55.02', '17.24', '23.15', '41.25', '32.00', '38.49', '33.34', '10.93', '27.55', '55.99', '16.24', '26.12', '12.23', '23.99', '29.06', '20.27', '43.55', '36.94', '20.47', '41.06', '14.19', '38.28', '41.05', '30.25', '28.26', '10.76', '16.85', '13.47', '48.56', '19.15', '57.36', '42.98', '22.16', '49.43', '29.99', '21.36', '29.00', '53.53', '41.62', '54.59', '34.95', '37.72', '35.61', '42.16', '19.19', '19.43', '49.46', '37.80', '30.80', '27.43', '11.11', '36.50', '15.38', '15.48', '46.82', '18.46', '36.58', '50.54', '12.51', '24.70', '43.61', '37.34', '14.36', '52.65', '38.20', '19.60', '53.90', '12.96', '37.10', '46.31', '45.95', '22.08', '25.38', '27.12', '43.04', '56.80', '25.91', '32.61', '27.88', '52.67', '46.02', '44.48', '37.40', '54.04', '16.88', '28.08', '10.40', '44.07', '23.40', '17.43', '54.21', '40.67', '52.26', '28.77', '13.82', '25.85', '48.78', '35.35', '44.73', '15.77', '39.24', '13.92', '10.69', '45.21', '45.58', '11.89', '26.41', '39.50', '44.74', '52.79', '35.43', '55.84', '48.87', '46.78', '47.82', '25.48', '23.57', '50.89', '10.56', '52.15', '18.28', '11.83', '21.95', '38.39', '41.56', '24.48', '40.36', '28.90', '37.61', '38.85', '53.95', '49.83', '51.51', '18.03', '29.14', '46.91', '26.79', '16.28', '19.55', '29.65', '25.98', '10.60', '14.75', '47.02', '28.82', '58.79', '10.23', '30.03', '45.84', '49.05', '15.06', '46.47', '27.09', '57.62', '14.39', '51.75', '54.07', '55.35', '40.12', '37.51', '11.21', '36.58', '47.72', '25.01', '22.13', '44.14', '56.02', '11.23', '43.28', '47.27', '20.29', '50.83', '31.85', '46.23', '37.80', '49.32', '32.01', '28.01', '50.62', '17.03', '48.80', '58.14', '34.20', '51.48', '29.87', '10.90', '56.37', '48.35', '16.73', '56.48', '40.79', '39.72', '14.58', '55.51', '21.80', '13.33', '38.73', '37.86', '11.53', '27.06', '13.86', '37.55', '32.30', '46.29', '26.20', '33.26', '59.15', '39.43', '14.44', '56.54', '59.90', '11.88', '48.05', '21.21', '49.67', '43.14', '36.97', '26.80', '15.71', '54.65', '54.36', '35.28', '20.55', '58.32', '11.84', '41.46', '20.10', '56.86', '56.51', '40.83', '48.64', '59.48', '39.01', '38.77', '48.39', '27.26', '11.68', '59.45', '21.00', '53.98', '48.74', '21.15', '13.71', '47.67']\n",
            "Links: ['http://books.toscrape.com/catalogue/a-light-in-the-attic_1000/index.html', 'http://books.toscrape.com/catalogue/tipping-the-velvet_999/index.html', 'http://books.toscrape.com/catalogue/soumission_998/index.html', 'http://books.toscrape.com/catalogue/sharp-objects_997/index.html', 'http://books.toscrape.com/catalogue/sapiens-a-brief-history-of-humankind_996/index.html', 'http://books.toscrape.com/catalogue/the-requiem-red_995/index.html', 'http://books.toscrape.com/catalogue/the-dirty-little-secrets-of-getting-your-dream-job_994/index.html', 'http://books.toscrape.com/catalogue/the-coming-woman-a-novel-based-on-the-life-of-the-infamous-feminist-victoria-woodhull_993/index.html', 'http://books.toscrape.com/catalogue/the-boys-in-the-boat-nine-americans-and-their-epic-quest-for-gold-at-the-1936-berlin-olympics_992/index.html', 'http://books.toscrape.com/catalogue/the-black-maria_991/index.html', 'http://books.toscrape.com/catalogue/starving-hearts-triangular-trade-trilogy-1_990/index.html', 'http://books.toscrape.com/catalogue/shakespeares-sonnets_989/index.html', 'http://books.toscrape.com/catalogue/set-me-free_988/index.html', 'http://books.toscrape.com/catalogue/scott-pilgrims-precious-little-life-scott-pilgrim-1_987/index.html', 'http://books.toscrape.com/catalogue/rip-it-up-and-start-again_986/index.html', 'http://books.toscrape.com/catalogue/our-band-could-be-your-life-scenes-from-the-american-indie-underground-1981-1991_985/index.html', 'http://books.toscrape.com/catalogue/olio_984/index.html', 'http://books.toscrape.com/catalogue/mesaerion-the-best-science-fiction-stories-1800-1849_983/index.html', 'http://books.toscrape.com/catalogue/libertarianism-for-beginners_982/index.html', 'http://books.toscrape.com/catalogue/its-only-the-himalayas_981/index.html', 'http://books.toscrape.com/catalogue/in-her-wake_980/index.html', 'http://books.toscrape.com/catalogue/how-music-works_979/index.html', 'http://books.toscrape.com/catalogue/foolproof-preserving-a-guide-to-small-batch-jams-jellies-pickles-condiments-and-more-a-foolproof-guide-to-making-small-batch-jams-jellies-pickles-condiments-and-more_978/index.html', 'http://books.toscrape.com/catalogue/chase-me-paris-nights-2_977/index.html', 'http://books.toscrape.com/catalogue/black-dust_976/index.html', 'http://books.toscrape.com/catalogue/birdsong-a-story-in-pictures_975/index.html', 'http://books.toscrape.com/catalogue/americas-cradle-of-quarterbacks-western-pennsylvanias-football-factory-from-johnny-unitas-to-joe-montana_974/index.html', 'http://books.toscrape.com/catalogue/aladdin-and-his-wonderful-lamp_973/index.html', 'http://books.toscrape.com/catalogue/worlds-elsewhere-journeys-around-shakespeares-globe_972/index.html', 'http://books.toscrape.com/catalogue/wall-and-piece_971/index.html', 'http://books.toscrape.com/catalogue/the-four-agreements-a-practical-guide-to-personal-freedom_970/index.html', 'http://books.toscrape.com/catalogue/the-five-love-languages-how-to-express-heartfelt-commitment-to-your-mate_969/index.html', 'http://books.toscrape.com/catalogue/the-elephant-tree_968/index.html', 'http://books.toscrape.com/catalogue/the-bear-and-the-piano_967/index.html', 'http://books.toscrape.com/catalogue/sophies-world_966/index.html', 'http://books.toscrape.com/catalogue/penny-maybe_965/index.html', 'http://books.toscrape.com/catalogue/maude-1883-1993she-grew-up-with-the-country_964/index.html', 'http://books.toscrape.com/catalogue/in-a-dark-dark-wood_963/index.html', 'http://books.toscrape.com/catalogue/behind-closed-doors_962/index.html', 'http://books.toscrape.com/catalogue/you-cant-bury-them-all-poems_961/index.html', 'http://books.toscrape.com/catalogue/slow-states-of-collapse-poems_960/index.html', 'http://books.toscrape.com/catalogue/reasons-to-stay-alive_959/index.html', 'http://books.toscrape.com/catalogue/private-paris-private-10_958/index.html', 'http://books.toscrape.com/catalogue/higherselfie-wake-up-your-life-free-your-soul-find-your-tribe_957/index.html', 'http://books.toscrape.com/catalogue/without-borders-wanderlove-1_956/index.html', 'http://books.toscrape.com/catalogue/when-we-collided_955/index.html', 'http://books.toscrape.com/catalogue/we-love-you-charlie-freeman_954/index.html', 'http://books.toscrape.com/catalogue/untitled-collection-sabbath-poems-2014_953/index.html', 'http://books.toscrape.com/catalogue/unseen-city-the-majesty-of-pigeons-the-discreet-charm-of-snails-other-wonders-of-the-urban-wilderness_952/index.html', 'http://books.toscrape.com/catalogue/unicorn-tracks_951/index.html', 'http://books.toscrape.com/catalogue/unbound-how-eight-technologies-made-us-human-transformed-society-and-brought-our-world-to-the-brink_950/index.html', 'http://books.toscrape.com/catalogue/tsubasa-world-chronicle-2-tsubasa-world-chronicle-2_949/index.html', 'http://books.toscrape.com/catalogue/throwing-rocks-at-the-google-bus-how-growth-became-the-enemy-of-prosperity_948/index.html', 'http://books.toscrape.com/catalogue/this-one-summer_947/index.html', 'http://books.toscrape.com/catalogue/thirst_946/index.html', 'http://books.toscrape.com/catalogue/the-torch-is-passed-a-harding-family-story_945/index.html', 'http://books.toscrape.com/catalogue/the-secret-of-dreadwillow-carse_944/index.html', 'http://books.toscrape.com/catalogue/the-pioneer-woman-cooks-dinnertime-comfort-classics-freezer-food-16-minute-meals-and-other-delicious-ways-to-solve-supper_943/index.html', 'http://books.toscrape.com/catalogue/the-past-never-ends_942/index.html', 'http://books.toscrape.com/catalogue/the-natural-history-of-us-the-fine-art-of-pretending-2_941/index.html', 'http://books.toscrape.com/catalogue/the-nameless-city-the-nameless-city-1_940/index.html', 'http://books.toscrape.com/catalogue/the-murder-that-never-was-forensic-instincts-5_939/index.html', 'http://books.toscrape.com/catalogue/the-most-perfect-thing-inside-and-outside-a-birds-egg_938/index.html', 'http://books.toscrape.com/catalogue/the-mindfulness-and-acceptance-workbook-for-anxiety-a-guide-to-breaking-free-from-anxiety-phobias-and-worry-using-acceptance-and-commitment-therapy_937/index.html', 'http://books.toscrape.com/catalogue/the-life-changing-magic-of-tidying-up-the-japanese-art-of-decluttering-and-organizing_936/index.html', 'http://books.toscrape.com/catalogue/the-inefficiency-assassin-time-management-tactics-for-working-smarter-not-longer_935/index.html', 'http://books.toscrape.com/catalogue/the-gutsy-girl-escapades-for-your-life-of-epic-adventure_934/index.html', 'http://books.toscrape.com/catalogue/the-electric-pencil-drawings-from-inside-state-hospital-no-3_933/index.html', 'http://books.toscrape.com/catalogue/the-death-of-humanity-and-the-case-for-life_932/index.html', 'http://books.toscrape.com/catalogue/the-bulletproof-diet-lose-up-to-a-pound-a-day-reclaim-energy-and-focus-upgrade-your-life_931/index.html', 'http://books.toscrape.com/catalogue/the-art-forger_930/index.html', 'http://books.toscrape.com/catalogue/the-age-of-genius-the-seventeenth-century-and-the-birth-of-the-modern-mind_929/index.html', 'http://books.toscrape.com/catalogue/the-activists-tao-te-ching-ancient-advice-for-a-modern-revolution_928/index.html', 'http://books.toscrape.com/catalogue/spark-joy-an-illustrated-master-class-on-the-art-of-organizing-and-tidying-up_927/index.html', 'http://books.toscrape.com/catalogue/soul-reader_926/index.html', 'http://books.toscrape.com/catalogue/security_925/index.html', 'http://books.toscrape.com/catalogue/saga-volume-6-saga-collected-editions-6_924/index.html', 'http://books.toscrape.com/catalogue/saga-volume-5-saga-collected-editions-5_923/index.html', 'http://books.toscrape.com/catalogue/reskilling-america-learning-to-labor-in-the-twenty-first-century_922/index.html', 'http://books.toscrape.com/catalogue/rat-queens-vol-3-demons-rat-queens-collected-editions-11-15_921/index.html', 'http://books.toscrape.com/catalogue/princess-jellyfish-2-in-1-omnibus-vol-01-princess-jellyfish-2-in-1-omnibus-1_920/index.html', 'http://books.toscrape.com/catalogue/princess-between-worlds-wide-awake-princess-5_919/index.html', 'http://books.toscrape.com/catalogue/pop-gun-war-volume-1-gift_918/index.html', 'http://books.toscrape.com/catalogue/political-suicide-missteps-peccadilloes-bad-calls-backroom-hijinx-sordid-pasts-rotten-breaks-and-just-plain-dumb-mistakes-in-the-annals-of-american-politics_917/index.html', 'http://books.toscrape.com/catalogue/patience_916/index.html', 'http://books.toscrape.com/catalogue/outcast-vol-1-a-darkness-surrounds-him-outcast-1_915/index.html', 'http://books.toscrape.com/catalogue/orange-the-complete-collection-1-orange-the-complete-collection-1_914/index.html', 'http://books.toscrape.com/catalogue/online-marketing-for-busy-authors-a-step-by-step-guide_913/index.html', 'http://books.toscrape.com/catalogue/on-a-midnight-clear_912/index.html', 'http://books.toscrape.com/catalogue/obsidian-lux-1_911/index.html', 'http://books.toscrape.com/catalogue/my-paris-kitchen-recipes-and-stories_910/index.html', 'http://books.toscrape.com/catalogue/masks-and-shadows_909/index.html', 'http://books.toscrape.com/catalogue/mama-tried-traditional-italian-cooking-for-the-screwed-crude-vegan-and-tattooed_908/index.html', 'http://books.toscrape.com/catalogue/lumberjanes-vol-2-friendship-to-the-max-lumberjanes-5-8_907/index.html', 'http://books.toscrape.com/catalogue/lumberjanes-vol-1-beware-the-kitten-holy-lumberjanes-1-4_906/index.html', 'http://books.toscrape.com/catalogue/lumberjanes-vol-3-a-terrible-plan-lumberjanes-9-12_905/index.html', 'http://books.toscrape.com/catalogue/layered-baking-building-and-styling-spectacular-cakes_904/index.html', 'http://books.toscrape.com/catalogue/judo-seven-steps-to-black-belt-an-introductory-guide-for-beginners_903/index.html', 'http://books.toscrape.com/catalogue/join_902/index.html', 'http://books.toscrape.com/catalogue/in-the-country-we-love-my-family-divided_901/index.html', 'http://books.toscrape.com/catalogue/immunity-how-elie-metchnikoff-changed-the-course-of-modern-medicine_900/index.html', 'http://books.toscrape.com/catalogue/i-hate-fairyland-vol-1-madly-ever-after-i-hate-fairyland-compilations-1-5_899/index.html', 'http://books.toscrape.com/catalogue/i-am-a-hero-omnibus-volume-1_898/index.html', 'http://books.toscrape.com/catalogue/how-to-be-miserable-40-strategies-you-already-use_897/index.html', 'http://books.toscrape.com/catalogue/her-backup-boyfriend-the-sorensen-family-1_896/index.html', 'http://books.toscrape.com/catalogue/giant-days-vol-2-giant-days-5-8_895/index.html', 'http://books.toscrape.com/catalogue/forever-and-forever-the-courtship-of-henry-longfellow-and-fanny-appleton_894/index.html', 'http://books.toscrape.com/catalogue/first-and-first-five-boroughs-3_893/index.html', 'http://books.toscrape.com/catalogue/fifty-shades-darker-fifty-shades-2_892/index.html', 'http://books.toscrape.com/catalogue/everydata-the-misinformation-hidden-in-the-little-data-you-consume-every-day_891/index.html', 'http://books.toscrape.com/catalogue/dont-be-a-jerk-and-other-practical-advice-from-dogen-japans-greatest-zen-master_890/index.html', 'http://books.toscrape.com/catalogue/danganronpa-volume-1_889/index.html', 'http://books.toscrape.com/catalogue/crown-of-midnight-throne-of-glass-2_888/index.html', 'http://books.toscrape.com/catalogue/codename-baboushka-volume-1-the-conclave-of-death_887/index.html', 'http://books.toscrape.com/catalogue/camp-midnight_886/index.html', 'http://books.toscrape.com/catalogue/call-the-nurse-true-stories-of-a-country-nurse-on-a-scottish-isle_885/index.html', 'http://books.toscrape.com/catalogue/burning_884/index.html', 'http://books.toscrape.com/catalogue/bossypants_883/index.html', 'http://books.toscrape.com/catalogue/bitch-planet-vol-1-extraordinary-machine-bitch-planet-collected-editions_882/index.html', 'http://books.toscrape.com/catalogue/avatar-the-last-airbender-smoke-and-shadow-part-3-smoke-and-shadow-3_881/index.html', 'http://books.toscrape.com/catalogue/algorithms-to-live-by-the-computer-science-of-human-decisions_880/index.html', 'http://books.toscrape.com/catalogue/a-world-of-flavor-your-gluten-free-passport_879/index.html', 'http://books.toscrape.com/catalogue/a-piece-of-sky-a-grain-of-rice-a-memoir-in-four-meditations_878/index.html', 'http://books.toscrape.com/catalogue/a-murder-in-time_877/index.html', 'http://books.toscrape.com/catalogue/a-flight-of-arrows-the-pathfinders-2_876/index.html', 'http://books.toscrape.com/catalogue/a-fierce-and-subtle-poison_875/index.html', 'http://books.toscrape.com/catalogue/a-court-of-thorns-and-roses-a-court-of-thorns-and-roses-1_874/index.html', 'http://books.toscrape.com/catalogue/unqualified-how-god-uses-broken-people-to-do-big-things_873/index.html', 'http://books.toscrape.com/catalogue/you-are-what-you-love-the-spiritual-power-of-habit_872/index.html', 'http://books.toscrape.com/catalogue/william-shakespeares-star-wars-verily-a-new-hope-william-shakespeares-star-wars-4_871/index.html', 'http://books.toscrape.com/catalogue/tuesday-nights-in-1980_870/index.html', 'http://books.toscrape.com/catalogue/tracing-numbers-on-a-train_869/index.html', 'http://books.toscrape.com/catalogue/throne-of-glass-throne-of-glass-1_868/index.html', 'http://books.toscrape.com/catalogue/thomas-jefferson-and-the-tripoli-pirates-the-forgotten-war-that-changed-american-history_867/index.html', 'http://books.toscrape.com/catalogue/thirteen-reasons-why_866/index.html', 'http://books.toscrape.com/catalogue/the-white-cat-and-the-monk-a-retelling-of-the-poem-pangur-ban_865/index.html', 'http://books.toscrape.com/catalogue/the-wedding-dress_864/index.html', 'http://books.toscrape.com/catalogue/the-vacationers_863/index.html', 'http://books.toscrape.com/catalogue/the-third-wave-an-entrepreneurs-vision-of-the-future_862/index.html', 'http://books.toscrape.com/catalogue/the-stranger_861/index.html', 'http://books.toscrape.com/catalogue/the-shadow-hero-the-shadow-hero_860/index.html', 'http://books.toscrape.com/catalogue/the-secret-the-secret-1_859/index.html', 'http://books.toscrape.com/catalogue/the-regional-office-is-under-attack_858/index.html', 'http://books.toscrape.com/catalogue/the-psychopath-test-a-journey-through-the-madness-industry_857/index.html', 'http://books.toscrape.com/catalogue/the-project_856/index.html', 'http://books.toscrape.com/catalogue/the-power-of-now-a-guide-to-spiritual-enlightenment_855/index.html', 'http://books.toscrape.com/catalogue/the-omnivores-dilemma-a-natural-history-of-four-meals_854/index.html', 'http://books.toscrape.com/catalogue/the-nerdy-nummies-cookbook-sweet-treats-for-the-geek-in-all-of-us_853/index.html', 'http://books.toscrape.com/catalogue/the-murder-of-roger-ackroyd-hercule-poirot-4_852/index.html', 'http://books.toscrape.com/catalogue/the-mistake-off-campus-2_851/index.html', 'http://books.toscrape.com/catalogue/the-matchmakers-playbook-wingmen-inc-1_850/index.html', 'http://books.toscrape.com/catalogue/the-love-and-lemons-cookbook-an-apple-to-zucchini-celebration-of-impromptu-cooking_849/index.html', 'http://books.toscrape.com/catalogue/the-long-shadow-of-small-ghosts-murder-and-memory-in-an-american-city_848/index.html', 'http://books.toscrape.com/catalogue/the-kite-runner_847/index.html', 'http://books.toscrape.com/catalogue/the-house-by-the-lake_846/index.html', 'http://books.toscrape.com/catalogue/the-glittering-court-the-glittering-court-1_845/index.html', 'http://books.toscrape.com/catalogue/the-girl-on-the-train_844/index.html', 'http://books.toscrape.com/catalogue/the-genius-of-birds_843/index.html', 'http://books.toscrape.com/catalogue/the-emerald-mystery_842/index.html', 'http://books.toscrape.com/catalogue/the-cookies-cups-cookbook-125-sweet-savory-recipes-reminding-you-to-always-eat-dessert-first_841/index.html', 'http://books.toscrape.com/catalogue/the-bridge-to-consciousness-im-writing-the-bridge-between-science-and-our-old-and-new-beliefs_840/index.html', 'http://books.toscrape.com/catalogue/the-artists-way-a-spiritual-path-to-higher-creativity_839/index.html', 'http://books.toscrape.com/catalogue/the-art-of-war_838/index.html', 'http://books.toscrape.com/catalogue/the-argonauts_837/index.html', 'http://books.toscrape.com/catalogue/the-10-entrepreneur-live-your-startup-dream-without-quitting-your-day-job_836/index.html', 'http://books.toscrape.com/catalogue/suddenly-in-love-lake-haven-1_835/index.html', 'http://books.toscrape.com/catalogue/something-more-than-this_834/index.html', 'http://books.toscrape.com/catalogue/soft-apocalypse_833/index.html', 'http://books.toscrape.com/catalogue/so-youve-been-publicly-shamed_832/index.html', 'http://books.toscrape.com/catalogue/shoe-dog-a-memoir-by-the-creator-of-nike_831/index.html', 'http://books.toscrape.com/catalogue/shobu-samurai-project-aryoku-3_830/index.html', 'http://books.toscrape.com/catalogue/secrets-and-lace-fatal-hearts-1_829/index.html', 'http://books.toscrape.com/catalogue/scarlett-epstein-hates-it-here_828/index.html', 'http://books.toscrape.com/catalogue/romero-and-juliet-a-tragic-tale-of-love-and-zombies_827/index.html', 'http://books.toscrape.com/catalogue/redeeming-love_826/index.html', 'http://books.toscrape.com/catalogue/poses-for-artists-volume-1-dynamic-and-sitting-poses-an-essential-reference-for-figure-drawing-and-the-human-form_825/index.html', 'http://books.toscrape.com/catalogue/poems-that-make-grown-women-cry_824/index.html', 'http://books.toscrape.com/catalogue/nightingale-sing_823/index.html', 'http://books.toscrape.com/catalogue/night-sky-with-exit-wounds_822/index.html', 'http://books.toscrape.com/catalogue/mrs-houdini_821/index.html', 'http://books.toscrape.com/catalogue/modern-romance_820/index.html', 'http://books.toscrape.com/catalogue/miss-peregrines-home-for-peculiar-children-miss-peregrines-peculiar-children-1_819/index.html', 'http://books.toscrape.com/catalogue/louisa-the-extraordinary-life-of-mrs-adams_818/index.html', 'http://books.toscrape.com/catalogue/little-red_817/index.html', 'http://books.toscrape.com/catalogue/library-of-souls-miss-peregrines-peculiar-children-3_816/index.html', 'http://books.toscrape.com/catalogue/large-print-heart-of-the-pride_815/index.html', 'http://books.toscrape.com/catalogue/i-had-a-nice-time-and-other-lies-how-to-find-love-sht-like-that_814/index.html', 'http://books.toscrape.com/catalogue/hollow-city-miss-peregrines-peculiar-children-2_813/index.html', 'http://books.toscrape.com/catalogue/grumbles_812/index.html', 'http://books.toscrape.com/catalogue/full-moon-over-noahs-ark-an-odyssey-to-mount-ararat-and-beyond_811/index.html', 'http://books.toscrape.com/catalogue/frostbite-vampire-academy-2_810/index.html', 'http://books.toscrape.com/catalogue/follow-you-home_809/index.html', 'http://books.toscrape.com/catalogue/first-steps-for-new-christians-print-edition_808/index.html', 'http://books.toscrape.com/catalogue/finders-keepers-bill-hodges-trilogy-2_807/index.html', 'http://books.toscrape.com/catalogue/fables-vol-1-legends-in-exile-fables-1_806/index.html', 'http://books.toscrape.com/catalogue/eureka-trivia-60_805/index.html', 'http://books.toscrape.com/catalogue/drive-the-surprising-truth-about-what-motivates-us_804/index.html', 'http://books.toscrape.com/catalogue/done-rubbed-out-reightman-bailey-1_803/index.html', 'http://books.toscrape.com/catalogue/doing-it-over-most-likely-to-1_802/index.html', 'http://books.toscrape.com/catalogue/deliciously-ella-every-day-quick-and-easy-recipes-for-gluten-free-snacks-packed-lunches-and-simple-meals_801/index.html', 'http://books.toscrape.com/catalogue/dark-notes_800/index.html', 'http://books.toscrape.com/catalogue/daring-greatly-how-the-courage-to-be-vulnerable-transforms-the-way-we-live-love-parent-and-lead_799/index.html', 'http://books.toscrape.com/catalogue/close-to-you_798/index.html', 'http://books.toscrape.com/catalogue/chasing-heaven-what-dying-taught-me-about-living_797/index.html', 'http://books.toscrape.com/catalogue/big-magic-creative-living-beyond-fear_796/index.html', 'http://books.toscrape.com/catalogue/becoming-wise-an-inquiry-into-the-mystery-and-art-of-living_795/index.html', 'http://books.toscrape.com/catalogue/beauty-restored-riley-family-legacy-novellas-3_794/index.html', 'http://books.toscrape.com/catalogue/batman-the-long-halloween-batman_793/index.html', 'http://books.toscrape.com/catalogue/batman-the-dark-knight-returns-batman_792/index.html', 'http://books.toscrape.com/catalogue/ayumis-violin_791/index.html', 'http://books.toscrape.com/catalogue/anonymous_790/index.html', 'http://books.toscrape.com/catalogue/amy-meets-the-saints-and-sages_789/index.html', 'http://books.toscrape.com/catalogue/amid-the-chaos_788/index.html', 'http://books.toscrape.com/catalogue/amatus_787/index.html', 'http://books.toscrape.com/catalogue/agnostic-a-spirited-manifesto_786/index.html', 'http://books.toscrape.com/catalogue/zealot-the-life-and-times-of-jesus-of-nazareth_785/index.html', 'http://books.toscrape.com/catalogue/you-you-1_784/index.html', 'http://books.toscrape.com/catalogue/wonder-woman-earth-one-volume-one-wonder-woman-earth-one-1_783/index.html', 'http://books.toscrape.com/catalogue/wild-swans_782/index.html', 'http://books.toscrape.com/catalogue/why-the-right-went-wrong-conservatism-from-goldwater-to-the-tea-party-and-beyond_781/index.html', 'http://books.toscrape.com/catalogue/whole-lotta-creativity-going-on-60-fun-and-unusual-exercises-to-awaken-and-strengthen-your-creativity_780/index.html', 'http://books.toscrape.com/catalogue/whats-it-like-in-space-stories-from-astronauts-whove-been-there_779/index.html', 'http://books.toscrape.com/catalogue/we-are-robin-vol-1-the-vigilante-business-we-are-robin-1_778/index.html', 'http://books.toscrape.com/catalogue/walt-disneys-alice-in-wonderland_777/index.html', 'http://books.toscrape.com/catalogue/v-for-vendetta-v-for-vendetta-complete_776/index.html', 'http://books.toscrape.com/catalogue/until-friday-night-the-field-party-1_775/index.html', 'http://books.toscrape.com/catalogue/unbroken-a-world-war-ii-story-of-survival-resilience-and-redemption_774/index.html', 'http://books.toscrape.com/catalogue/twenty-yawns_773/index.html', 'http://books.toscrape.com/catalogue/through-the-woods_772/index.html', 'http://books.toscrape.com/catalogue/this-is-where-it-ends_771/index.html', 'http://books.toscrape.com/catalogue/the-year-of-magical-thinking_770/index.html', 'http://books.toscrape.com/catalogue/the-wright-brothers_769/index.html', 'http://books.toscrape.com/catalogue/the-white-queen-the-cousins-war-1_768/index.html', 'http://books.toscrape.com/catalogue/the-wedding-pact-the-omalleys-2_767/index.html', 'http://books.toscrape.com/catalogue/the-time-keeper_766/index.html', 'http://books.toscrape.com/catalogue/the-testament-of-mary_765/index.html', 'http://books.toscrape.com/catalogue/the-star-touched-queen_764/index.html', 'http://books.toscrape.com/catalogue/the-songs-of-the-gods_763/index.html', 'http://books.toscrape.com/catalogue/the-song-of-achilles_762/index.html', 'http://books.toscrape.com/catalogue/the-rosie-project-don-tillman-1_761/index.html', 'http://books.toscrape.com/catalogue/the-power-of-habit-why-we-do-what-we-do-in-life-and-business_760/index.html', 'http://books.toscrape.com/catalogue/the-marriage-of-opposites_759/index.html', 'http://books.toscrape.com/catalogue/the-lucifer-effect-understanding-how-good-people-turn-evil_758/index.html', 'http://books.toscrape.com/catalogue/the-long-haul-diary-of-a-wimpy-kid-9_757/index.html', 'http://books.toscrape.com/catalogue/the-loney_756/index.html', 'http://books.toscrape.com/catalogue/the-literature-book-big-ideas-simply-explained_755/index.html', 'http://books.toscrape.com/catalogue/the-last-mile-amos-decker-2_754/index.html', 'http://books.toscrape.com/catalogue/the-immortal-life-of-henrietta-lacks_753/index.html', 'http://books.toscrape.com/catalogue/the-hidden-oracle-the-trials-of-apollo-1_752/index.html', 'http://books.toscrape.com/catalogue/the-help-yourself-cookbook-for-kids-60-easy-plant-based-recipes-kids-can-make-to-stay-healthy-and-save-the-earth_751/index.html', 'http://books.toscrape.com/catalogue/the-guilty-will-robie-4_750/index.html', 'http://books.toscrape.com/catalogue/the-first-hostage-jb-collins-2_749/index.html', 'http://books.toscrape.com/catalogue/the-dovekeepers_748/index.html', 'http://books.toscrape.com/catalogue/the-darkest-lie_747/index.html', 'http://books.toscrape.com/catalogue/the-bane-chronicles-the-bane-chronicles-1-11_746/index.html', 'http://books.toscrape.com/catalogue/the-bad-ass-librarians-of-timbuktu-and-their-race-to-save-the-worlds-most-precious-manuscripts_745/index.html', 'http://books.toscrape.com/catalogue/the-14th-colony-cotton-malone-11_744/index.html', 'http://books.toscrape.com/catalogue/that-darkness-gardiner-and-renner-1_743/index.html', 'http://books.toscrape.com/catalogue/tastes-like-fear-di-marnie-rome-3_742/index.html', 'http://books.toscrape.com/catalogue/take-me-with-you_741/index.html', 'http://books.toscrape.com/catalogue/swell-a-year-of-waves_740/index.html', 'http://books.toscrape.com/catalogue/superman-vol-1-before-truth-superman-by-gene-luen-yang-1_739/index.html', 'http://books.toscrape.com/catalogue/still-life-with-bread-crumbs_738/index.html', 'http://books.toscrape.com/catalogue/steve-jobs_737/index.html', 'http://books.toscrape.com/catalogue/sorting-the-beef-from-the-bull-the-science-of-food-fraud-forensics_736/index.html', 'http://books.toscrape.com/catalogue/someone-like-you-the-harrisons-2_735/index.html', 'http://books.toscrape.com/catalogue/so-cute-it-hurts-vol-6-so-cute-it-hurts-6_734/index.html', 'http://books.toscrape.com/catalogue/shtum_733/index.html', 'http://books.toscrape.com/catalogue/see-america-a-celebration-of-our-national-parks-treasured-sites_732/index.html', 'http://books.toscrape.com/catalogue/salt_731/index.html', 'http://books.toscrape.com/catalogue/robin-war_730/index.html', 'http://books.toscrape.com/catalogue/red-hoodarsenal-vol-1-open-for-business-red-hoodarsenal-1_729/index.html', 'http://books.toscrape.com/catalogue/rain-fish_728/index.html', 'http://books.toscrape.com/catalogue/quarter-life-poetry-poems-for-the-young-broke-and-hangry_727/index.html', 'http://books.toscrape.com/catalogue/pet-sematary_726/index.html', 'http://books.toscrape.com/catalogue/overload-how-to-unplug-unwind-and-unleash-yourself-from-the-pressure-of-stress_725/index.html', 'http://books.toscrape.com/catalogue/once-was-a-time_724/index.html', 'http://books.toscrape.com/catalogue/old-school-diary-of-a-wimpy-kid-10_723/index.html', 'http://books.toscrape.com/catalogue/no-dream-is-too-high-life-lessons-from-a-man-who-walked-on-the-moon_722/index.html', 'http://books.toscrape.com/catalogue/naruto-3-in-1-edition-vol-14-includes-vols-40-41-42-naruto-omnibus-14_721/index.html', 'http://books.toscrape.com/catalogue/my-name-is-lucy-barton_720/index.html', 'http://books.toscrape.com/catalogue/my-mrs-brown_719/index.html', 'http://books.toscrape.com/catalogue/my-kind-of-crazy_718/index.html', 'http://books.toscrape.com/catalogue/mr-mercedes-bill-hodges-trilogy-1_717/index.html', 'http://books.toscrape.com/catalogue/more-than-music-chasing-the-dream-1_716/index.html', 'http://books.toscrape.com/catalogue/made-to-stick-why-some-ideas-survive-and-others-die_715/index.html', 'http://books.toscrape.com/catalogue/luis-paints-the-world_714/index.html', 'http://books.toscrape.com/catalogue/luckiest-girl-alive_713/index.html', 'http://books.toscrape.com/catalogue/lowriders-to-the-center-of-the-earth-lowriders-in-space-2_712/index.html', 'http://books.toscrape.com/catalogue/love-is-a-mix-tape-music-1_711/index.html', 'http://books.toscrape.com/catalogue/looking-for-lovely-collecting-the-moments-that-matter_710/index.html', 'http://books.toscrape.com/catalogue/living-leadership-by-insight-a-good-leader-achieves-a-great-leader-builds-monuments_709/index.html', 'http://books.toscrape.com/catalogue/let-it-out-a-journey-through-journaling_708/index.html', 'http://books.toscrape.com/catalogue/lady-midnight-the-dark-artifices-1_707/index.html', 'http://books.toscrape.com/catalogue/its-all-easy-healthy-delicious-weeknight-meals-in-under-30-minutes_706/index.html', 'http://books.toscrape.com/catalogue/island-of-dragons-unwanteds-7_705/index.html', 'http://books.toscrape.com/catalogue/i-know-what-im-doing-and-other-lies-i-tell-myself-dispatches-from-a-life-under-construction_704/index.html', 'http://books.toscrape.com/catalogue/i-am-pilgrim-pilgrim-1_703/index.html', 'http://books.toscrape.com/catalogue/hyperbole-and-a-half-unfortunate-situations-flawed-coping-mechanisms-mayhem-and-other-things-that-happened_702/index.html', 'http://books.toscrape.com/catalogue/hush-hush-hush-hush-1_701/index.html', 'http://books.toscrape.com/catalogue/hold-your-breath-search-and-rescue-1_700/index.html', 'http://books.toscrape.com/catalogue/hamilton-the-revolution_699/index.html', 'http://books.toscrape.com/catalogue/greek-mythic-history_698/index.html', 'http://books.toscrape.com/catalogue/god-the-most-unpleasant-character-in-all-fiction_697/index.html', 'http://books.toscrape.com/catalogue/glory-over-everything-beyond-the-kitchen-house_696/index.html', 'http://books.toscrape.com/catalogue/feathers-displays-of-brilliant-plumage_695/index.html', 'http://books.toscrape.com/catalogue/far-away-places-on-the-brink-of-change-seven-continents-twenty-five-years_694/index.html', 'http://books.toscrape.com/catalogue/every-last-word_693/index.html', 'http://books.toscrape.com/catalogue/eligible-the-austen-project-4_692/index.html', 'http://books.toscrape.com/catalogue/el-deafo_691/index.html', 'http://books.toscrape.com/catalogue/eight-hundred-grapes_690/index.html', 'http://books.toscrape.com/catalogue/eaternity-more-than-150-deliciously-easy-vegan-recipes-for-a-long-healthy-satisfied-joyful-life_689/index.html', 'http://books.toscrape.com/catalogue/eat-fat-get-thin_688/index.html', 'http://books.toscrape.com/catalogue/dont-get-caught_687/index.html', 'http://books.toscrape.com/catalogue/doctor-sleep-the-shining-2_686/index.html', 'http://books.toscrape.com/catalogue/demigods-magicians-percy-and-annabeth-meet-the-kanes-percy-jackson-kane-chronicles-crossover-1-3_685/index.html', 'http://books.toscrape.com/catalogue/dear-mr-knightley_684/index.html', 'http://books.toscrape.com/catalogue/daily-fantasy-sports_683/index.html', 'http://books.toscrape.com/catalogue/crazy-love-overwhelmed-by-a-relentless-god_682/index.html', 'http://books.toscrape.com/catalogue/cometh-the-hour-the-clifton-chronicles-6_681/index.html', 'http://books.toscrape.com/catalogue/code-name-verity-code-name-verity-1_680/index.html', 'http://books.toscrape.com/catalogue/clockwork-angel-the-infernal-devices-1_679/index.html', 'http://books.toscrape.com/catalogue/city-of-glass-the-mortal-instruments-3_678/index.html', 'http://books.toscrape.com/catalogue/city-of-fallen-angels-the-mortal-instruments-4_677/index.html', 'http://books.toscrape.com/catalogue/city-of-bones-the-mortal-instruments-1_676/index.html', 'http://books.toscrape.com/catalogue/city-of-ashes-the-mortal-instruments-2_675/index.html', 'http://books.toscrape.com/catalogue/cell_674/index.html', 'http://books.toscrape.com/catalogue/catching-jordan-hundred-oaks_673/index.html', 'http://books.toscrape.com/catalogue/carry-on-warrior-thoughts-on-life-unarmed_672/index.html', 'http://books.toscrape.com/catalogue/carrie_671/index.html', 'http://books.toscrape.com/catalogue/buying-in-the-secret-dialogue-between-what-we-buy-and-who-we-are_670/index.html', 'http://books.toscrape.com/catalogue/brain-on-fire-my-month-of-madness_669/index.html', 'http://books.toscrape.com/catalogue/batman-europa_668/index.html', 'http://books.toscrape.com/catalogue/barefoot-contessa-back-to-basics_667/index.html', 'http://books.toscrape.com/catalogue/barefoot-contessa-at-home-everyday-recipes-youll-make-over-and-over-again_666/index.html', 'http://books.toscrape.com/catalogue/balloon-animals_665/index.html', 'http://books.toscrape.com/catalogue/art-ops-vol-1_664/index.html', 'http://books.toscrape.com/catalogue/aristotle-and-dante-discover-the-secrets-of-the-universe-aristotle-and-dante-discover-the-secrets-of-the-universe-1_663/index.html', 'http://books.toscrape.com/catalogue/angels-walking-angels-walking-1_662/index.html', 'http://books.toscrape.com/catalogue/angels-demons-robert-langdon-1_661/index.html', 'http://books.toscrape.com/catalogue/all-the-light-we-cannot-see_660/index.html', 'http://books.toscrape.com/catalogue/adulthood-is-a-myth-a-sarahs-scribbles-collection_659/index.html', 'http://books.toscrape.com/catalogue/abstract-city_658/index.html', 'http://books.toscrape.com/catalogue/a-time-of-torment-charlie-parker-14_657/index.html', 'http://books.toscrape.com/catalogue/a-study-in-scarlet-sherlock-holmes-1_656/index.html', 'http://books.toscrape.com/catalogue/a-series-of-catastrophes-and-miracles-a-true-story-of-love-science-and-cancer_655/index.html', 'http://books.toscrape.com/catalogue/a-peoples-history-of-the-united-states_654/index.html', 'http://books.toscrape.com/catalogue/a-man-called-ove_653/index.html', 'http://books.toscrape.com/catalogue/a-distant-mirror-the-calamitous-14th-century_652/index.html', 'http://books.toscrape.com/catalogue/a-brush-of-wings-angels-walking-3_651/index.html', 'http://books.toscrape.com/catalogue/1491-new-revelations-of-the-americas-before-columbus_650/index.html', 'http://books.toscrape.com/catalogue/the-three-searches-meaning-and-the-story_649/index.html', 'http://books.toscrape.com/catalogue/searching-for-meaning-in-gailana_648/index.html', 'http://books.toscrape.com/catalogue/rook_647/index.html', 'http://books.toscrape.com/catalogue/my-kitchen-year-136-recipes-that-saved-my-life_646/index.html', 'http://books.toscrape.com/catalogue/13-hours-the-inside-account-of-what-really-happened-in-benghazi_645/index.html', 'http://books.toscrape.com/catalogue/will-you-wont-you-want-me_644/index.html', 'http://books.toscrape.com/catalogue/tipping-point-for-planet-earth-how-close-are-we-to-the-edge_643/index.html', 'http://books.toscrape.com/catalogue/the-star-touched-queen_642/index.html', 'http://books.toscrape.com/catalogue/the-silent-sister-riley-macpherson-1_641/index.html', 'http://books.toscrape.com/catalogue/the-midnight-watch-a-novel-of-the-titanic-and-the-californian_640/index.html', 'http://books.toscrape.com/catalogue/the-lonely-city-adventures-in-the-art-of-being-alone_639/index.html', 'http://books.toscrape.com/catalogue/the-gray-rhino-how-to-recognize-and-act-on-the-obvious-dangers-we-ignore_638/index.html', 'http://books.toscrape.com/catalogue/the-golden-condom-and-other-essays-on-love-lost-and-found_637/index.html', 'http://books.toscrape.com/catalogue/the-epidemic-the-program-06_636/index.html', 'http://books.toscrape.com/catalogue/the-dinner-party_635/index.html', 'http://books.toscrape.com/catalogue/the-diary-of-a-young-girl_634/index.html', 'http://books.toscrape.com/catalogue/the-children_633/index.html', 'http://books.toscrape.com/catalogue/stars-above-the-lunar-chronicles-45_632/index.html', 'http://books.toscrape.com/catalogue/snatched-how-a-drug-queen-went-undercover-for-the-dea-and-was-kidnapped-by-colombian-guerillas_631/index.html', 'http://books.toscrape.com/catalogue/raspberry-pi-electronics-projects-for-the-evil-genius_630/index.html', 'http://books.toscrape.com/catalogue/quench-your-own-thirst-business-lessons-learned-over-a-beer-or-two_629/index.html', 'http://books.toscrape.com/catalogue/psycho-sanitarium-psycho-15_628/index.html', 'http://books.toscrape.com/catalogue/poisonous-max-revere-novels-3_627/index.html', 'http://books.toscrape.com/catalogue/one-with-you-crossfire-5_626/index.html', 'http://books.toscrape.com/catalogue/no-love-allowed-dodge-cove-1_625/index.html', 'http://books.toscrape.com/catalogue/murder-at-the-42nd-street-library-raymond-ambler-1_624/index.html', 'http://books.toscrape.com/catalogue/most-wanted_623/index.html', 'http://books.toscrape.com/catalogue/love-lies-and-spies_622/index.html', 'http://books.toscrape.com/catalogue/how-to-speak-golf-an-illustrated-guide-to-links-lingo_621/index.html', 'http://books.toscrape.com/catalogue/hide-away-eve-duncan-20_620/index.html', 'http://books.toscrape.com/catalogue/furiously-happy-a-funny-book-about-horrible-things_619/index.html', 'http://books.toscrape.com/catalogue/everyday-italian-125-simple-and-delicious-recipes_618/index.html', 'http://books.toscrape.com/catalogue/equal-is-unfair-americas-misguided-fight-against-income-inequality_617/index.html', 'http://books.toscrape.com/catalogue/eleanor-park_616/index.html', 'http://books.toscrape.com/catalogue/dirty-dive-bar-1_615/index.html', 'http://books.toscrape.com/catalogue/can-you-keep-a-secret-fear-street-relaunch-4_614/index.html', 'http://books.toscrape.com/catalogue/boar-island-anna-pigeon-19_613/index.html', 'http://books.toscrape.com/catalogue/a-paris-apartment_612/index.html', 'http://books.toscrape.com/catalogue/a-la-mode-120-recipes-in-60-pairings-pies-tarts-cakes-crisps-and-more-topped-with-ice-cream-gelato-frozen-custard-and-more_611/index.html', 'http://books.toscrape.com/catalogue/troublemaker-surviving-hollywood-and-scientology_610/index.html', 'http://books.toscrape.com/catalogue/the-widow_609/index.html', 'http://books.toscrape.com/catalogue/the-sleep-revolution-transforming-your-life-one-night-at-a-time_608/index.html', 'http://books.toscrape.com/catalogue/the-improbability-of-love_607/index.html', 'http://books.toscrape.com/catalogue/the-art-of-startup-fundraising_606/index.html', 'http://books.toscrape.com/catalogue/take-me-home-tonight-rock-star-romance-3_605/index.html', 'http://books.toscrape.com/catalogue/sleeping-giants-themis-files-1_604/index.html', 'http://books.toscrape.com/catalogue/setting-the-world-on-fire-the-brief-astonishing-life-of-st-catherine-of-siena_603/index.html', 'http://books.toscrape.com/catalogue/playing-with-fire_602/index.html', 'http://books.toscrape.com/catalogue/off-the-hook-fishing-for-trouble-1_601/index.html']\n"
          ]
        }
      ]
    },
    {
      "cell_type": "code",
      "source": [
        "import pandas as pd\n"
      ],
      "metadata": {
        "id": "MZv-luFFNl9O"
      },
      "execution_count": null,
      "outputs": []
    },
    {
      "cell_type": "code",
      "source": [
        "df = pd.DataFrame(data={'Title': titles, 'Rating': ratings, 'Price': prices, 'Link': links})\n",
        "\n",
        "# Save the DataFrame to an Excel file\n",
        "df.to_excel('books_details.xlsx', index=False)\n",
        "\n",
        "print(\"Data has been saved to 'books_details.xlsx'\")"
      ],
      "metadata": {
        "colab": {
          "base_uri": "https://localhost:8080/"
        },
        "id": "Yj7Hx6wcOAoq",
        "outputId": "58d28c97-d10e-44a8-f431-b0ed5d986dbe"
      },
      "execution_count": null,
      "outputs": [
        {
          "output_type": "stream",
          "name": "stdout",
          "text": [
            "Data has been saved to 'books_details.xlsx'\n"
          ]
        }
      ]
    },
    {
      "cell_type": "code",
      "source": [],
      "metadata": {
        "id": "VM3_AHfeOKy9"
      },
      "execution_count": null,
      "outputs": []
    }
  ]
}